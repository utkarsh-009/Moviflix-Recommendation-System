{
  "cells": [
    {
      "cell_type": "markdown",
      "metadata": {
        "id": "4L5Dmza_Du9G"
      },
      "source": [
        "Importing Dependencies"
      ]
    },
    {
      "cell_type": "code",
      "execution_count": 1,
      "metadata": {
        "colab": {
          "base_uri": "https://localhost:8080/"
        },
        "id": "PWBchYAnqM47",
        "outputId": "8f08b503-2b99-4900-962a-5cf1fe16a071"
      },
      "outputs": [
        {
          "ename": "ModuleNotFoundError",
          "evalue": "No module named 'sklearn'",
          "output_type": "error",
          "traceback": [
            "\u001b[1;31m---------------------------------------------------------------------------\u001b[0m",
            "\u001b[1;31mModuleNotFoundError\u001b[0m                       Traceback (most recent call last)",
            "\u001b[1;32md:\\Engage\\Python RS Model\\RS_Model.ipynb Cell 2'\u001b[0m in \u001b[0;36m<cell line: 4>\u001b[1;34m()\u001b[0m\n\u001b[0;32m      <a href='vscode-notebook-cell:/d%3A/Engage/Python%20RS%20Model/RS_Model.ipynb#ch0000001?line=1'>2</a>\u001b[0m \u001b[39mimport\u001b[39;00m \u001b[39mpandas\u001b[39;00m \u001b[39mas\u001b[39;00m \u001b[39mpd\u001b[39;00m\n\u001b[0;32m      <a href='vscode-notebook-cell:/d%3A/Engage/Python%20RS%20Model/RS_Model.ipynb#ch0000001?line=2'>3</a>\u001b[0m \u001b[39mimport\u001b[39;00m \u001b[39mdifflib\u001b[39;00m\n\u001b[1;32m----> <a href='vscode-notebook-cell:/d%3A/Engage/Python%20RS%20Model/RS_Model.ipynb#ch0000001?line=3'>4</a>\u001b[0m \u001b[39mfrom\u001b[39;00m \u001b[39msklearn\u001b[39;00m\u001b[39m.\u001b[39;00m\u001b[39mfeature_extraction\u001b[39;00m\u001b[39m.\u001b[39;00m\u001b[39mtext\u001b[39;00m \u001b[39mimport\u001b[39;00m TfidfVectorizer\n\u001b[0;32m      <a href='vscode-notebook-cell:/d%3A/Engage/Python%20RS%20Model/RS_Model.ipynb#ch0000001?line=4'>5</a>\u001b[0m \u001b[39mfrom\u001b[39;00m \u001b[39msklearn\u001b[39;00m\u001b[39m.\u001b[39;00m\u001b[39mmetrics\u001b[39;00m\u001b[39m.\u001b[39;00m\u001b[39mpairwise\u001b[39;00m \u001b[39mimport\u001b[39;00m cosine_similarity\n\u001b[0;32m      <a href='vscode-notebook-cell:/d%3A/Engage/Python%20RS%20Model/RS_Model.ipynb#ch0000001?line=6'>7</a>\u001b[0m \u001b[39mfrom\u001b[39;00m \u001b[39mgoogle\u001b[39;00m\u001b[39m.\u001b[39;00m\u001b[39mcolab\u001b[39;00m \u001b[39mimport\u001b[39;00m drive\n",
            "\u001b[1;31mModuleNotFoundError\u001b[0m: No module named 'sklearn'"
          ]
        }
      ],
      "source": [
        "import numpy as np\n",
        "import pandas as pd\n",
        "import difflib\n",
        "from sklearn.feature_extraction.text import TfidfVectorizer\n",
        "from sklearn.metrics.pairwise import cosine_similarity\n",
        "\n",
        "from google.colab import drive\n",
        "drive.mount('/content/drive')"
      ]
    },
    {
      "cell_type": "markdown",
      "metadata": {
        "id": "-CDbWAo_dGX0"
      },
      "source": [
        "Data Collection and Pre-Processing"
      ]
    },
    {
      "cell_type": "code",
      "execution_count": null,
      "metadata": {
        "id": "Tg96iYi4GagE"
      },
      "outputs": [
        {
          "ename": "NameError",
          "evalue": "name 'pd' is not defined",
          "output_type": "error",
          "traceback": [
            "\u001b[1;31m---------------------------------------------------------------------------\u001b[0m",
            "\u001b[1;31mNameError\u001b[0m                                 Traceback (most recent call last)",
            "\u001b[1;32md:\\Engage\\Python RS Model\\RS_Model.ipynb Cell 4'\u001b[0m in \u001b[0;36m<cell line: 5>\u001b[1;34m()\u001b[0m\n\u001b[0;32m      <a href='vscode-notebook-cell:/d%3A/Engage/Python%20RS%20Model/RS_Model.ipynb#ch0000003?line=0'>1</a>\u001b[0m \u001b[39m# loading the data from the csv file to apandas dataframe\u001b[39;00m\n\u001b[0;32m      <a href='vscode-notebook-cell:/d%3A/Engage/Python%20RS%20Model/RS_Model.ipynb#ch0000003?line=3'>4</a>\u001b[0m path \u001b[39m=\u001b[39m \u001b[39m'\u001b[39m\u001b[39m/content/drive/MyDrive/Engage/moviesSample.csv\u001b[39m\u001b[39m'\u001b[39m\n\u001b[1;32m----> <a href='vscode-notebook-cell:/d%3A/Engage/Python%20RS%20Model/RS_Model.ipynb#ch0000003?line=4'>5</a>\u001b[0m movies_data \u001b[39m=\u001b[39m pd\u001b[39m.\u001b[39mread_csv(path)\n",
            "\u001b[1;31mNameError\u001b[0m: name 'pd' is not defined"
          ]
        }
      ],
      "source": [
        "# loading the data from the csv file to apandas dataframe\n",
        "\n",
        "\n",
        "path = '/content/drive/MyDrive/Engage/moviesSample.csv'\n",
        "movies_data = pd.read_csv(path)"
      ]
    },
    {
      "cell_type": "code",
      "execution_count": null,
      "metadata": {
        "colab": {
          "base_uri": "https://localhost:8080/",
          "height": 837
        },
        "id": "rbraLdUAH9UH",
        "outputId": "e273cb8e-3b30-48c6-d9b2-4b619891f6e4"
      },
      "outputs": [
        {
          "data": {
            "text/html": [
              "\n",
              "  <div id=\"df-ece67b55-7459-45ff-a38c-5cfcc6614c85\">\n",
              "    <div class=\"colab-df-container\">\n",
              "      <div>\n",
              "<style scoped>\n",
              "    .dataframe tbody tr th:only-of-type {\n",
              "        vertical-align: middle;\n",
              "    }\n",
              "\n",
              "    .dataframe tbody tr th {\n",
              "        vertical-align: top;\n",
              "    }\n",
              "\n",
              "    .dataframe thead th {\n",
              "        text-align: right;\n",
              "    }\n",
              "</style>\n",
              "<table border=\"1\" class=\"dataframe\">\n",
              "  <thead>\n",
              "    <tr style=\"text-align: right;\">\n",
              "      <th></th>\n",
              "      <th>index</th>\n",
              "      <th>budget</th>\n",
              "      <th>genres</th>\n",
              "      <th>homepage</th>\n",
              "      <th>id</th>\n",
              "      <th>keywords</th>\n",
              "      <th>original_language</th>\n",
              "      <th>original_title</th>\n",
              "      <th>overview</th>\n",
              "      <th>popularity</th>\n",
              "      <th>...</th>\n",
              "      <th>runtime</th>\n",
              "      <th>spoken_languages</th>\n",
              "      <th>status</th>\n",
              "      <th>tagline</th>\n",
              "      <th>title</th>\n",
              "      <th>vote_average</th>\n",
              "      <th>vote_count</th>\n",
              "      <th>cast</th>\n",
              "      <th>crew</th>\n",
              "      <th>director</th>\n",
              "    </tr>\n",
              "  </thead>\n",
              "  <tbody>\n",
              "    <tr>\n",
              "      <th>0</th>\n",
              "      <td>0</td>\n",
              "      <td>237000000</td>\n",
              "      <td>Action Adventure Fantasy Science Fiction</td>\n",
              "      <td>http://www.imdb.com/title/tt0499549/?ref_=fn_t...</td>\n",
              "      <td>19995</td>\n",
              "      <td>culture clash future space war space colony so...</td>\n",
              "      <td>en</td>\n",
              "      <td>Avatar</td>\n",
              "      <td>In the 22nd century, a paraplegic Marine is di...</td>\n",
              "      <td>150.437577</td>\n",
              "      <td>...</td>\n",
              "      <td>162</td>\n",
              "      <td>[{\"iso_639_1\": \"en\", \"name\": \"English\"}, {\"iso...</td>\n",
              "      <td>Released</td>\n",
              "      <td>Enter the World of Pandora.</td>\n",
              "      <td>Avatar</td>\n",
              "      <td>7.2</td>\n",
              "      <td>11800</td>\n",
              "      <td>Sam Worthington Zoe Saldana Sigourney Weaver S...</td>\n",
              "      <td>[{'name': 'Stephen E. Rivkin', 'gender': 0, 'd...</td>\n",
              "      <td>James Cameron</td>\n",
              "    </tr>\n",
              "    <tr>\n",
              "      <th>1</th>\n",
              "      <td>1</td>\n",
              "      <td>300000000</td>\n",
              "      <td>Adventure Fantasy Action</td>\n",
              "      <td>http://www.imdb.com/title/tt0449088/?ref_=fn_t...</td>\n",
              "      <td>285</td>\n",
              "      <td>ocean drug abuse exotic island east india trad...</td>\n",
              "      <td>en</td>\n",
              "      <td>Pirates of the Caribbean: At World's End</td>\n",
              "      <td>Captain Barbossa, long believed to be dead, ha...</td>\n",
              "      <td>139.082615</td>\n",
              "      <td>...</td>\n",
              "      <td>169</td>\n",
              "      <td>[{\"iso_639_1\": \"en\", \"name\": \"English\"}]</td>\n",
              "      <td>Released</td>\n",
              "      <td>At the end of the world, the adventure begins.</td>\n",
              "      <td>Pirates of the Caribbean: At World's End</td>\n",
              "      <td>6.9</td>\n",
              "      <td>4500</td>\n",
              "      <td>Johnny Depp Orlando Bloom Keira Knightley Stel...</td>\n",
              "      <td>[{'name': 'Dariusz Wolski', 'gender': 2, 'depa...</td>\n",
              "      <td>Gore Verbinski</td>\n",
              "    </tr>\n",
              "    <tr>\n",
              "      <th>2</th>\n",
              "      <td>2</td>\n",
              "      <td>245000000</td>\n",
              "      <td>Action Adventure Crime</td>\n",
              "      <td>http://www.imdb.com/title/tt2379713/?ref_=fn_t...</td>\n",
              "      <td>206647</td>\n",
              "      <td>spy based on novel secret agent sequel mi6</td>\n",
              "      <td>en</td>\n",
              "      <td>Spectre</td>\n",
              "      <td>A cryptic message from Bond’s past sends him o...</td>\n",
              "      <td>107.376788</td>\n",
              "      <td>...</td>\n",
              "      <td>148</td>\n",
              "      <td>[{\"iso_639_1\": \"fr\", \"name\": \"Fran\\u00e7ais\"},...</td>\n",
              "      <td>Released</td>\n",
              "      <td>A Plan No One Escapes</td>\n",
              "      <td>Spectre</td>\n",
              "      <td>6.3</td>\n",
              "      <td>4466</td>\n",
              "      <td>Daniel Craig Christoph Waltz L\\u00e9a Seydoux ...</td>\n",
              "      <td>[{'name': 'Thomas Newman', 'gender': 2, 'depar...</td>\n",
              "      <td>Sam Mendes</td>\n",
              "    </tr>\n",
              "    <tr>\n",
              "      <th>3</th>\n",
              "      <td>3</td>\n",
              "      <td>250000000</td>\n",
              "      <td>Action Crime Drama Thriller</td>\n",
              "      <td>http://www.imdb.com/title/tt1345836/?ref_=fn_t...</td>\n",
              "      <td>49026</td>\n",
              "      <td>dc comics crime fighter terrorist secret ident...</td>\n",
              "      <td>en</td>\n",
              "      <td>The Dark Knight Rises</td>\n",
              "      <td>Following the death of District Attorney Harve...</td>\n",
              "      <td>112.312950</td>\n",
              "      <td>...</td>\n",
              "      <td>165</td>\n",
              "      <td>[{\"iso_639_1\": \"en\", \"name\": \"English\"}]</td>\n",
              "      <td>Released</td>\n",
              "      <td>The Legend Ends</td>\n",
              "      <td>The Dark Knight Rises</td>\n",
              "      <td>7.6</td>\n",
              "      <td>9106</td>\n",
              "      <td>Christian Bale Michael Caine Gary Oldman Anne ...</td>\n",
              "      <td>[{'name': 'Hans Zimmer', 'gender': 2, 'departm...</td>\n",
              "      <td>Christopher Nolan</td>\n",
              "    </tr>\n",
              "    <tr>\n",
              "      <th>4</th>\n",
              "      <td>4</td>\n",
              "      <td>260000000</td>\n",
              "      <td>Action Adventure Science Fiction</td>\n",
              "      <td>http://www.imdb.com/title/tt0401729/?ref_=fn_t...</td>\n",
              "      <td>49529</td>\n",
              "      <td>based on novel mars medallion space travel pri...</td>\n",
              "      <td>en</td>\n",
              "      <td>John Carter</td>\n",
              "      <td>John Carter is a war-weary, former military ca...</td>\n",
              "      <td>43.926995</td>\n",
              "      <td>...</td>\n",
              "      <td>132</td>\n",
              "      <td>[{\"iso_639_1\": \"en\", \"name\": \"English\"}]</td>\n",
              "      <td>Released</td>\n",
              "      <td>Lost in our world, found in another.</td>\n",
              "      <td>John Carter</td>\n",
              "      <td>6.1</td>\n",
              "      <td>2124</td>\n",
              "      <td>Taylor Kitsch Lynn Collins Samantha Morton Wil...</td>\n",
              "      <td>[{'name': 'Andrew Stanton', 'gender': 2, 'depa...</td>\n",
              "      <td>Andrew Stanton</td>\n",
              "    </tr>\n",
              "  </tbody>\n",
              "</table>\n",
              "<p>5 rows × 24 columns</p>\n",
              "</div>\n",
              "      <button class=\"colab-df-convert\" onclick=\"convertToInteractive('df-ece67b55-7459-45ff-a38c-5cfcc6614c85')\"\n",
              "              title=\"Convert this dataframe to an interactive table.\"\n",
              "              style=\"display:none;\">\n",
              "        \n",
              "  <svg xmlns=\"http://www.w3.org/2000/svg\" height=\"24px\"viewBox=\"0 0 24 24\"\n",
              "       width=\"24px\">\n",
              "    <path d=\"M0 0h24v24H0V0z\" fill=\"none\"/>\n",
              "    <path d=\"M18.56 5.44l.94 2.06.94-2.06 2.06-.94-2.06-.94-.94-2.06-.94 2.06-2.06.94zm-11 1L8.5 8.5l.94-2.06 2.06-.94-2.06-.94L8.5 2.5l-.94 2.06-2.06.94zm10 10l.94 2.06.94-2.06 2.06-.94-2.06-.94-.94-2.06-.94 2.06-2.06.94z\"/><path d=\"M17.41 7.96l-1.37-1.37c-.4-.4-.92-.59-1.43-.59-.52 0-1.04.2-1.43.59L10.3 9.45l-7.72 7.72c-.78.78-.78 2.05 0 2.83L4 21.41c.39.39.9.59 1.41.59.51 0 1.02-.2 1.41-.59l7.78-7.78 2.81-2.81c.8-.78.8-2.07 0-2.86zM5.41 20L4 18.59l7.72-7.72 1.47 1.35L5.41 20z\"/>\n",
              "  </svg>\n",
              "      </button>\n",
              "      \n",
              "  <style>\n",
              "    .colab-df-container {\n",
              "      display:flex;\n",
              "      flex-wrap:wrap;\n",
              "      gap: 12px;\n",
              "    }\n",
              "\n",
              "    .colab-df-convert {\n",
              "      background-color: #E8F0FE;\n",
              "      border: none;\n",
              "      border-radius: 50%;\n",
              "      cursor: pointer;\n",
              "      display: none;\n",
              "      fill: #1967D2;\n",
              "      height: 32px;\n",
              "      padding: 0 0 0 0;\n",
              "      width: 32px;\n",
              "    }\n",
              "\n",
              "    .colab-df-convert:hover {\n",
              "      background-color: #E2EBFA;\n",
              "      box-shadow: 0px 1px 2px rgba(60, 64, 67, 0.3), 0px 1px 3px 1px rgba(60, 64, 67, 0.15);\n",
              "      fill: #174EA6;\n",
              "    }\n",
              "\n",
              "    [theme=dark] .colab-df-convert {\n",
              "      background-color: #3B4455;\n",
              "      fill: #D2E3FC;\n",
              "    }\n",
              "\n",
              "    [theme=dark] .colab-df-convert:hover {\n",
              "      background-color: #434B5C;\n",
              "      box-shadow: 0px 1px 3px 1px rgba(0, 0, 0, 0.15);\n",
              "      filter: drop-shadow(0px 1px 2px rgba(0, 0, 0, 0.3));\n",
              "      fill: #FFFFFF;\n",
              "    }\n",
              "  </style>\n",
              "\n",
              "      <script>\n",
              "        const buttonEl =\n",
              "          document.querySelector('#df-ece67b55-7459-45ff-a38c-5cfcc6614c85 button.colab-df-convert');\n",
              "        buttonEl.style.display =\n",
              "          google.colab.kernel.accessAllowed ? 'block' : 'none';\n",
              "\n",
              "        async function convertToInteractive(key) {\n",
              "          const element = document.querySelector('#df-ece67b55-7459-45ff-a38c-5cfcc6614c85');\n",
              "          const dataTable =\n",
              "            await google.colab.kernel.invokeFunction('convertToInteractive',\n",
              "                                                     [key], {});\n",
              "          if (!dataTable) return;\n",
              "\n",
              "          const docLinkHtml = 'Like what you see? Visit the ' +\n",
              "            '<a target=\"_blank\" href=https://colab.research.google.com/notebooks/data_table.ipynb>data table notebook</a>'\n",
              "            + ' to learn more about interactive tables.';\n",
              "          element.innerHTML = '';\n",
              "          dataTable['output_type'] = 'display_data';\n",
              "          await google.colab.output.renderOutput(dataTable, element);\n",
              "          const docLink = document.createElement('div');\n",
              "          docLink.innerHTML = docLinkHtml;\n",
              "          element.appendChild(docLink);\n",
              "        }\n",
              "      </script>\n",
              "    </div>\n",
              "  </div>\n",
              "  "
            ],
            "text/plain": [
              "   index     budget                                    genres  \\\n",
              "0      0  237000000  Action Adventure Fantasy Science Fiction   \n",
              "1      1  300000000                  Adventure Fantasy Action   \n",
              "2      2  245000000                    Action Adventure Crime   \n",
              "3      3  250000000               Action Crime Drama Thriller   \n",
              "4      4  260000000          Action Adventure Science Fiction   \n",
              "\n",
              "                                            homepage      id  \\\n",
              "0  http://www.imdb.com/title/tt0499549/?ref_=fn_t...   19995   \n",
              "1  http://www.imdb.com/title/tt0449088/?ref_=fn_t...     285   \n",
              "2  http://www.imdb.com/title/tt2379713/?ref_=fn_t...  206647   \n",
              "3  http://www.imdb.com/title/tt1345836/?ref_=fn_t...   49026   \n",
              "4  http://www.imdb.com/title/tt0401729/?ref_=fn_t...   49529   \n",
              "\n",
              "                                            keywords original_language  \\\n",
              "0  culture clash future space war space colony so...                en   \n",
              "1  ocean drug abuse exotic island east india trad...                en   \n",
              "2         spy based on novel secret agent sequel mi6                en   \n",
              "3  dc comics crime fighter terrorist secret ident...                en   \n",
              "4  based on novel mars medallion space travel pri...                en   \n",
              "\n",
              "                             original_title  \\\n",
              "0                                    Avatar   \n",
              "1  Pirates of the Caribbean: At World's End   \n",
              "2                                   Spectre   \n",
              "3                     The Dark Knight Rises   \n",
              "4                               John Carter   \n",
              "\n",
              "                                            overview  popularity  ... runtime  \\\n",
              "0  In the 22nd century, a paraplegic Marine is di...  150.437577  ...     162   \n",
              "1  Captain Barbossa, long believed to be dead, ha...  139.082615  ...     169   \n",
              "2  A cryptic message from Bond’s past sends him o...  107.376788  ...     148   \n",
              "3  Following the death of District Attorney Harve...  112.312950  ...     165   \n",
              "4  John Carter is a war-weary, former military ca...   43.926995  ...     132   \n",
              "\n",
              "                                    spoken_languages    status  \\\n",
              "0  [{\"iso_639_1\": \"en\", \"name\": \"English\"}, {\"iso...  Released   \n",
              "1           [{\"iso_639_1\": \"en\", \"name\": \"English\"}]  Released   \n",
              "2  [{\"iso_639_1\": \"fr\", \"name\": \"Fran\\u00e7ais\"},...  Released   \n",
              "3           [{\"iso_639_1\": \"en\", \"name\": \"English\"}]  Released   \n",
              "4           [{\"iso_639_1\": \"en\", \"name\": \"English\"}]  Released   \n",
              "\n",
              "                                          tagline  \\\n",
              "0                     Enter the World of Pandora.   \n",
              "1  At the end of the world, the adventure begins.   \n",
              "2                           A Plan No One Escapes   \n",
              "3                                 The Legend Ends   \n",
              "4            Lost in our world, found in another.   \n",
              "\n",
              "                                      title vote_average vote_count  \\\n",
              "0                                    Avatar          7.2      11800   \n",
              "1  Pirates of the Caribbean: At World's End          6.9       4500   \n",
              "2                                   Spectre          6.3       4466   \n",
              "3                     The Dark Knight Rises          7.6       9106   \n",
              "4                               John Carter          6.1       2124   \n",
              "\n",
              "                                                cast  \\\n",
              "0  Sam Worthington Zoe Saldana Sigourney Weaver S...   \n",
              "1  Johnny Depp Orlando Bloom Keira Knightley Stel...   \n",
              "2  Daniel Craig Christoph Waltz L\\u00e9a Seydoux ...   \n",
              "3  Christian Bale Michael Caine Gary Oldman Anne ...   \n",
              "4  Taylor Kitsch Lynn Collins Samantha Morton Wil...   \n",
              "\n",
              "                                                crew           director  \n",
              "0  [{'name': 'Stephen E. Rivkin', 'gender': 0, 'd...      James Cameron  \n",
              "1  [{'name': 'Dariusz Wolski', 'gender': 2, 'depa...     Gore Verbinski  \n",
              "2  [{'name': 'Thomas Newman', 'gender': 2, 'depar...         Sam Mendes  \n",
              "3  [{'name': 'Hans Zimmer', 'gender': 2, 'departm...  Christopher Nolan  \n",
              "4  [{'name': 'Andrew Stanton', 'gender': 2, 'depa...     Andrew Stanton  \n",
              "\n",
              "[5 rows x 24 columns]"
            ]
          },
          "execution_count": 4,
          "metadata": {},
          "output_type": "execute_result"
        }
      ],
      "source": [
        "# printing the first 5 rows of the dataframe\n",
        "\n",
        "movies_data.head()\n",
        "\n"
      ]
    },
    {
      "cell_type": "code",
      "execution_count": null,
      "metadata": {
        "colab": {
          "base_uri": "https://localhost:8080/"
        },
        "id": "xDtIoV84H9bP",
        "outputId": "35fcaed1-2f40-4f13-e160-38aeb6847892"
      },
      "outputs": [
        {
          "data": {
            "text/plain": [
              "(232, 24)"
            ]
          },
          "execution_count": 5,
          "metadata": {},
          "output_type": "execute_result"
        }
      ],
      "source": [
        "#number of rows and column in the dataframe\n",
        "\n",
        "movies_data.shape"
      ]
    },
    {
      "cell_type": "code",
      "execution_count": null,
      "metadata": {
        "colab": {
          "base_uri": "https://localhost:8080/"
        },
        "id": "pm0KepuEH9dv",
        "outputId": "97c2db7c-a0ee-4afa-ef4f-876ac320ae78"
      },
      "outputs": [
        {
          "name": "stdout",
          "output_type": "stream",
          "text": [
            "['genres', 'keywords', 'tagline', 'cast', 'director']\n"
          ]
        }
      ],
      "source": [
        "# selecting the relevant features for recommendation\n",
        "\n",
        "selected_features = ['genres','keywords','tagline','cast','director']\n",
        "print(selected_features)"
      ]
    },
    {
      "cell_type": "code",
      "execution_count": null,
      "metadata": {
        "id": "Bp1FntSQH9g3"
      },
      "outputs": [],
      "source": [
        "# replacing the null valuess with null string\n",
        "\n",
        "for feature in selected_features:\n",
        "  movies_data[feature] = movies_data[feature].fillna('')"
      ]
    },
    {
      "cell_type": "code",
      "execution_count": null,
      "metadata": {
        "id": "O4tND5WgH9jh"
      },
      "outputs": [],
      "source": [
        "# combining all the 5 selected features\n",
        "\n",
        "combined_features = movies_data['genres']+' '+movies_data['keywords']+' '+movies_data['tagline']+' '+movies_data['cast']+' '+movies_data['director']"
      ]
    },
    {
      "cell_type": "code",
      "execution_count": null,
      "metadata": {
        "colab": {
          "base_uri": "https://localhost:8080/"
        },
        "id": "vEzELewFH9mO",
        "outputId": "4c1213f8-cac4-4e57-fa22-b482ccd93a5c"
      },
      "outputs": [
        {
          "name": "stdout",
          "output_type": "stream",
          "text": [
            "0      Action Adventure Fantasy Science Fiction cultu...\n",
            "1      Adventure Fantasy Action ocean drug abuse exot...\n",
            "2      Action Adventure Crime spy based on novel secr...\n",
            "3      Action Crime Drama Thriller dc comics crime fi...\n",
            "4      Action Adventure Science Fiction based on nove...\n",
            "                             ...                        \n",
            "227    Action Comedy spy airport gas station garage p...\n",
            "228    Action Science Fiction Adventure Mystery space...\n",
            "229    Science Fiction Adventure Action showdown deat...\n",
            "230    Adventure Action Science Fiction senate invest...\n",
            "231    Animation Comedy Family monster infant energy ...\n",
            "Length: 232, dtype: object\n"
          ]
        }
      ],
      "source": [
        "print(combined_features)"
      ]
    },
    {
      "cell_type": "code",
      "execution_count": null,
      "metadata": {
        "colab": {
          "base_uri": "https://localhost:8080/",
          "height": 88
        },
        "id": "CHZTaB32H9ob",
        "outputId": "65832c9d-f43a-4ed9-d700-6fd2b8e1536f"
      },
      "outputs": [
        {
          "data": {
            "application/vnd.google.colaboratory.intrinsic+json": {
              "type": "string"
            },
            "text/plain": [
              "'\\nNOTES:\\n\\n#Term Frequency Inverse Document Frequency(TF-IDF):\\nTF-IDF: This is very common algorithm to transform text into a meaningful representation of numbers which is used to fit machine algorithm for prediction.\\n\\n#TfidfVectorizer: Transforms text to feature vectors that can be used as input to estimator.\\n'"
            ]
          },
          "execution_count": 10,
          "metadata": {},
          "output_type": "execute_result"
        }
      ],
      "source": [
        "# converting the text data to feature vectors\n",
        "\n",
        "vectorizer = TfidfVectorizer()\n",
        "\n",
        "\n",
        "'''\n",
        "NOTES:\n",
        "\n",
        "#Term Frequency Inverse Document Frequency(TF-IDF):\n",
        "TF-IDF: This is very common algorithm to transform text into a meaningful representation of numbers which is used to fit machine algorithm for prediction.\n",
        "\n",
        "#TfidfVectorizer: Transforms text to feature vectors that can be used as input to estimator.\n",
        "'''"
      ]
    },
    {
      "cell_type": "code",
      "execution_count": null,
      "metadata": {
        "id": "E3k3lDCrH9qz"
      },
      "outputs": [],
      "source": [
        "# converting combined_features into feature vectors and returning it into matrix form\n",
        "\n",
        "feature_vectors = vectorizer.fit_transform(combined_features)\n"
      ]
    },
    {
      "cell_type": "code",
      "execution_count": null,
      "metadata": {
        "colab": {
          "base_uri": "https://localhost:8080/"
        },
        "id": "IPXMgExgH9s8",
        "outputId": "b25ca177-5a8e-4909-9c17-80ce632ae64a"
      },
      "outputs": [
        {
          "name": "stdout",
          "output_type": "stream",
          "text": [
            "  (0, 333)\t0.1832577453804889\n",
            "  (0, 1081)\t0.13856884920253712\n",
            "  (0, 1805)\t0.20602156488673865\n",
            "  (0, 1421)\t0.18952822296172242\n",
            "  (0, 1219)\t0.2342171191396742\n",
            "  (0, 2016)\t0.21772377721465797\n",
            "  (0, 2285)\t0.2342171191396742\n",
            "  (0, 1948)\t0.2342171191396742\n",
            "  (0, 1844)\t0.19694462382179778\n",
            "  (0, 2380)\t0.19694462382179778\n",
            "  (0, 2351)\t0.19694462382179778\n",
            "  (0, 1849)\t0.14483932678377065\n",
            "  (0, 1599)\t0.2342171191396742\n",
            "  (0, 1549)\t0.1144444484718379\n",
            "  (0, 2347)\t0.12272636254340342\n",
            "  (0, 2106)\t0.07310079963172518\n",
            "  (0, 682)\t0.2342171191396742\n",
            "  (0, 1973)\t0.2342171191396742\n",
            "  (0, 429)\t0.21772377721465797\n",
            "  (0, 2265)\t0.1496304563808675\n",
            "  (0, 1989)\t0.3045114552876921\n",
            "  (0, 817)\t0.16874906956886224\n",
            "  (0, 412)\t0.21772377721465797\n",
            "  (0, 497)\t0.2342171191396742\n",
            "  (0, 748)\t0.08416240681005557\n",
            "  :\t:\n",
            "  (230, 24)\t0.04582677931678974\n",
            "  (230, 14)\t0.04974745065018604\n",
            "  (231, 421)\t0.2367257807614397\n",
            "  (231, 855)\t0.2367257807614397\n",
            "  (231, 339)\t0.2367257807614397\n",
            "  (231, 201)\t0.2367257807614397\n",
            "  (231, 1871)\t0.2367257807614397\n",
            "  (231, 1789)\t0.2367257807614397\n",
            "  (231, 2049)\t0.2367257807614397\n",
            "  (231, 678)\t0.2367257807614397\n",
            "  (231, 1042)\t0.2367257807614397\n",
            "  (231, 1362)\t0.20822822849435998\n",
            "  (231, 319)\t0.19905406578406595\n",
            "  (231, 2019)\t0.16663799966201487\n",
            "  (231, 877)\t0.20822822849435998\n",
            "  (231, 1120)\t0.1487406470702417\n",
            "  (231, 493)\t0.22005578132285689\n",
            "  (231, 2282)\t0.34111302703397245\n",
            "  (231, 239)\t0.16663799966201487\n",
            "  (231, 434)\t0.10693114690569763\n",
            "  (231, 1456)\t0.17973067622728026\n",
            "  (231, 721)\t0.09235463926668176\n",
            "  (231, 90)\t0.1078153374853316\n",
            "  (231, 440)\t0.20822822849435998\n",
            "  (231, 1081)\t0.14005303769927682\n"
          ]
        }
      ],
      "source": [
        "print(feature_vectors)"
      ]
    },
    {
      "cell_type": "markdown",
      "metadata": {
        "id": "cvi4yJipQDpc"
      },
      "source": [
        "Cosine Similarity"
      ]
    },
    {
      "cell_type": "code",
      "execution_count": null,
      "metadata": {
        "colab": {
          "base_uri": "https://localhost:8080/",
          "height": 88
        },
        "id": "jvIFkAYYP_Mc",
        "outputId": "7d83e6d5-2a59-42fd-93a6-57b7bd9c9393"
      },
      "outputs": [
        {
          "data": {
            "application/vnd.google.colaboratory.intrinsic+json": {
              "type": "string"
            },
            "text/plain": [
              "'\\nNOTES: \\nCosine similarity measures the similarity between two vectors of an inner product space\\nIt is measured by the cosine of the angle between two vectors and determines whether two vectors are pointing in roughly the same direction.\\nIt is often used to measure document similarity in text analysis.\\n'"
            ]
          },
          "execution_count": 13,
          "metadata": {},
          "output_type": "execute_result"
        }
      ],
      "source": [
        "# getting the similarity scores using cosine similarity\n",
        "\n",
        "similarity = cosine_similarity(feature_vectors)\n",
        "\n",
        "'''\n",
        "NOTES: \n",
        "Cosine similarity measures the similarity between two vectors of an inner product space\n",
        "It is measured by the cosine of the angle between two vectors and determines whether two vectors are pointing in roughly the same direction.\n",
        "It is often used to measure document similarity in text analysis.\n",
        "'''"
      ]
    },
    {
      "cell_type": "code",
      "execution_count": null,
      "metadata": {
        "colab": {
          "base_uri": "https://localhost:8080/"
        },
        "id": "k9jNS0hHP_XL",
        "outputId": "3d5cde02-f6d5-4cac-db2b-3cfc54576ffe"
      },
      "outputs": [
        {
          "name": "stdout",
          "output_type": "stream",
          "text": [
            "[[1.         0.06570116 0.02929416 ... 0.02706319 0.01738583 0.01940699]\n",
            " [0.06570116 1.         0.02934304 ... 0.02344592 0.02496598 0.03795467]\n",
            " [0.02929416 0.02934304 1.         ... 0.00715561 0.00579095 0.        ]\n",
            " ...\n",
            " [0.02706319 0.02344592 0.00715561 ... 1.         0.5199361  0.        ]\n",
            " [0.01738583 0.02496598 0.00579095 ... 0.5199361  1.         0.        ]\n",
            " [0.01940699 0.03795467 0.         ... 0.         0.         1.        ]]\n"
          ]
        }
      ],
      "source": [
        "print(similarity)"
      ]
    },
    {
      "cell_type": "markdown",
      "metadata": {
        "id": "rnlML1DjS1dJ"
      },
      "source": [
        "Getting the movie name from the user"
      ]
    },
    {
      "cell_type": "code",
      "execution_count": null,
      "metadata": {
        "colab": {
          "base_uri": "https://localhost:8080/"
        },
        "id": "KAZAkcBnSU0x",
        "outputId": "21092d97-57b9-41ac-e415-f4506b31898a"
      },
      "outputs": [
        {
          "name": "stdout",
          "output_type": "stream",
          "text": [
            " Enter your favourite movie name : spiderman\n"
          ]
        }
      ],
      "source": [
        "# getting the movie name from the user\n",
        "\n",
        "movie_name = input(' Enter your favourite movie name : ')"
      ]
    },
    {
      "cell_type": "code",
      "execution_count": null,
      "metadata": {
        "colab": {
          "base_uri": "https://localhost:8080/"
        },
        "id": "V2UNQ8JqP_Zg",
        "outputId": "c127128b-9223-462e-b9ea-ff4c22e09ffe"
      },
      "outputs": [
        {
          "name": "stdout",
          "output_type": "stream",
          "text": [
            "['Avatar', \"Pirates of the Caribbean: At World's End\", 'Spectre', 'The Dark Knight Rises', 'John Carter', 'Spider-Man 3', 'Tangled', 'Avengers: Age of Ultron', 'Harry Potter and the Half-Blood Prince', 'Batman v Superman: Dawn of Justice', 'Superman Returns', 'Quantum of Solace', \"Pirates of the Caribbean: Dead Man's Chest\", 'The Lone Ranger', 'Man of Steel', 'The Chronicles of Narnia: Prince Caspian', 'The Avengers', 'Pirates of the Caribbean: On Stranger Tides', 'Men in Black 3', 'The Hobbit: The Battle of the Five Armies', 'The Amazing Spider-Man', 'Robin Hood', 'The Hobbit: The Desolation of Smaug', 'The Golden Compass', 'King Kong', 'Titanic', 'Captain America: Civil War', 'Battleship', 'Jurassic World', 'Skyfall', 'Spider-Man 2', 'Iron Man 3', 'Alice in Wonderland', 'X-Men: The Last Stand', 'Monsters University', 'Transformers: Revenge of the Fallen', 'Transformers: Age of Extinction', 'Oz: The Great and Powerful', 'The Amazing Spider-Man 2', 'TRON: Legacy', 'Cars 2', 'Green Lantern', 'Toy Story 3', 'Terminator Salvation', 'Furious 7', 'World War Z', 'X-Men: Days of Future Past', 'Star Trek Into Darkness', 'Jack the Giant Slayer', 'The Great Gatsby', 'Prince of Persia: The Sands of Time', 'Pacific Rim', 'Transformers: Dark of the Moon', 'Indiana Jones and the Kingdom of the Crystal Skull', 'The Good Dinosaur', 'Brave', 'Star Trek Beyond', 'WALL·E', 'Rush Hour 3', '2012', 'A Christmas Carol', 'Jupiter Ascending', 'The Legend of Tarzan', 'The Chronicles of Narnia: The Lion, the Witch and the Wardrobe', 'X-Men: Apocalypse', 'The Dark Knight', 'Up', 'Monsters vs Aliens', 'Iron Man', 'Hugo', 'Wild Wild West', 'The Mummy: Tomb of the Dragon Emperor', 'Suicide Squad', 'Evan Almighty', 'Edge of Tomorrow', 'Waterworld', 'G.I. Joe: The Rise of Cobra', 'Inside Out', 'The Jungle Book', 'Iron Man 2', 'Snow White and the Huntsman', 'Maleficent', 'Dawn of the Planet of the Apes', 'The Lovers', '47 Ronin', 'Captain America: The Winter Soldier', 'Shrek Forever After', 'Tomorrowland', 'Big Hero 6', 'Wreck-It Ralph', 'The Polar Express', 'Independence Day: Resurgence', 'How to Train Your Dragon', 'Terminator 3: Rise of the Machines', 'Guardians of the Galaxy', 'Interstellar', 'Inception', 'Shin Godzilla', 'The Hobbit: An Unexpected Journey', 'The Fast and the Furious', 'The Curious Case of Benjamin Button', 'X-Men: First Class', 'The Hunger Games: Mockingjay - Part 2', \"The Sorcerer's Apprentice\", 'Poseidon', 'Alice Through the Looking Glass', 'Shrek the Third', 'Warcraft', 'Terminator Genisys', 'The Chronicles of Narnia: The Voyage of the Dawn Treader', 'Pearl Harbor', 'Transformers', 'Alexander', 'Harry Potter and the Order of the Phoenix', 'Harry Potter and the Goblet of Fire', 'Hancock', 'I Am Legend', 'Charlie and the Chocolate Factory', 'Ratatouille', 'Batman Begins', 'Madagascar: Escape 2 Africa', 'Night at the Museum: Battle of the Smithsonian', 'X-Men Origins: Wolverine', 'The Matrix Revolutions', 'Frozen', 'The Matrix Reloaded', 'Thor: The Dark World', 'Mad Max: Fury Road', 'Angels & Demons', 'Thor', 'Bolt', 'G-Force', 'Wrath of the Titans', 'Dark Shadows', 'Mission: Impossible - Rogue Nation', 'The Wolfman', 'Bee Movie', 'Kung Fu Panda 2', 'The Last Airbender', 'Mission: Impossible III', 'White House Down', 'Mars Needs Moms', 'Flushed Away', 'Pan', 'Mr. Peabody & Sherman', 'Troy', \"Madagascar 3: Europe's Most Wanted\", 'Die Another Day', 'Ghostbusters', 'Armageddon', 'Men in Black II', 'Beowulf', 'Kung Fu Panda 3', 'Mission: Impossible - Ghost Protocol', 'Rise of the Guardians', 'Fun with Dick and Jane', 'The Last Samurai', 'Exodus: Gods and Kings', 'Star Trek', 'Spider-Man', 'How to Train Your Dragon 2', 'Gods of Egypt', 'Stealth', 'Watchmen', 'Lethal Weapon 4', 'Hulk', 'G.I. Joe: Retaliation', 'Sahara', 'Final Fantasy: The Spirits Within', 'Captain America: The First Avenger', 'The World Is Not Enough', 'Master and Commander: The Far Side of the World', 'The Twilight Saga: Breaking Dawn - Part 2', 'Happy Feet Two', 'The Incredible Hulk', 'The BFG', 'The Revenant', 'Turbo', 'Rango', 'Penguins of Madagascar', 'The Bourne Ultimatum', 'Kung Fu Panda', 'Ant-Man', 'The Hunger Games: Catching Fire', 'Home', 'War of the Worlds', 'Bad Boys II', 'Puss in Boots', 'Salt', 'Noah', 'The Adventures of Tintin', 'Harry Potter and the Prisoner of Azkaban', 'Australia', 'After Earth', 'Dinosaur', 'Night at the Museum: Secret of the Tomb', 'Megamind', \"Harry Potter and the Philosopher's Stone\", 'R.I.P.D.', 'Pirates of the Caribbean: The Curse of the Black Pearl', 'The Hunger Games: Mockingjay - Part 1', 'The Da Vinci Code', 'Rio 2', 'X2', 'Fast Five', 'Sherlock Holmes: A Game of Shadows', 'Clash of the Titans', 'Total Recall', 'The 13th Warrior', 'The Bourne Legacy', 'Batman & Robin', 'How the Grinch Stole Christmas', 'The Day After Tomorrow', 'Mission: Impossible II', 'The Perfect Storm', 'Fantastic 4: Rise of the Silver Surfer', 'Life of Pi', 'Ghost Rider', 'Jason Bourne', \"Charlie's Angels: Full Throttle\", 'Prometheus', 'Stuart Little 2', 'Elysium', 'The Chronicles of Riddick', 'RoboCop', 'Speed Racer', 'How Do You Know', 'Knight and Day', 'Oblivion', 'Star Wars: Episode III - Revenge of the Sith', 'Star Wars: Episode II - Attack of the Clones', 'Monsters, Inc.']\n"
          ]
        }
      ],
      "source": [
        "# creating a list with all the movie names given in the dataset\n",
        "\n",
        "list_of_all_titles = movies_data['title'].tolist()\n",
        "print(list_of_all_titles)\n",
        "\n",
        "#list_of_all_titles: Stores names of all movies in form of list"
      ]
    },
    {
      "cell_type": "code",
      "execution_count": null,
      "metadata": {
        "colab": {
          "base_uri": "https://localhost:8080/",
          "height": 88
        },
        "id": "7V_u7AqLY6cK",
        "outputId": "6e14692c-8689-47ef-fb30-3457cdc41fd7"
      },
      "outputs": [
        {
          "name": "stdout",
          "output_type": "stream",
          "text": [
            "['Spider-Man', 'Spider-Man 3', 'Spider-Man 2']\n"
          ]
        },
        {
          "data": {
            "application/vnd.google.colaboratory.intrinsic+json": {
              "type": "string"
            },
            "text/plain": [
              "'\\nNOTES:\\nThe get_close_matches() function returns a list of close matched strings that satisfy the cutoff. \\nThe order of close matched string is based on similarity score, so the most similar string comes first in the list.\\n'"
            ]
          },
          "execution_count": 17,
          "metadata": {},
          "output_type": "execute_result"
        }
      ],
      "source": [
        "# finding the close match for the movie name given by the user\n",
        "\n",
        "find_close_match = difflib.get_close_matches(movie_name, list_of_all_titles)\n",
        "print(find_close_match)\n",
        "\n",
        "#find_close_match: Stores name of all movies close matching with movie_name \n",
        "\n",
        "'''\n",
        "NOTES:\n",
        "The get_close_matches() function returns a list of close matched strings that satisfy the cutoff. \n",
        "The order of close matched string is based on similarity score, so the most similar string comes first in the list.\n",
        "'''"
      ]
    },
    {
      "cell_type": "code",
      "execution_count": null,
      "metadata": {
        "colab": {
          "base_uri": "https://localhost:8080/"
        },
        "id": "T_cswPrjdPXY",
        "outputId": "ed1f1adf-a759-47e3-9c14-8da3ec211ed8"
      },
      "outputs": [
        {
          "name": "stdout",
          "output_type": "stream",
          "text": [
            "Spider-Man\n"
          ]
        }
      ],
      "source": [
        "close_match = find_close_match[0]\n",
        "print(close_match)"
      ]
    },
    {
      "cell_type": "code",
      "execution_count": null,
      "metadata": {
        "colab": {
          "base_uri": "https://localhost:8080/"
        },
        "id": "Ako1GmKjdPes",
        "outputId": "cb55d7b6-b82c-44e9-8447-937e8d43a6ce"
      },
      "outputs": [
        {
          "name": "stdout",
          "output_type": "stream",
          "text": [
            "159\n"
          ]
        }
      ],
      "source": [
        "# finding the index of the movie with title\n",
        "\n",
        "index_of_the_movie = movies_data[movies_data.title == close_match]['index'].values[0]\n",
        "print(index_of_the_movie)"
      ]
    },
    {
      "cell_type": "code",
      "execution_count": null,
      "metadata": {
        "colab": {
          "base_uri": "https://localhost:8080/"
        },
        "id": "qiwNPNsudPmp",
        "outputId": "53c8d516-de1b-4e8e-c04a-c76ccd5b7c64"
      },
      "outputs": [
        {
          "name": "stdout",
          "output_type": "stream",
          "text": [
            "[(0, 0.05775184298388447), (1, 0.029597774713485608), (2, 0.023460412868080267), (3, 0.0034374313890217544), (4, 0.08230803593109892), (5, 0.2854488354067277), (6, 0.0), (7, 0.003449713598529517), (8, 0.020812071214715754), (9, 0.010273057889161242), (10, 0.03132765816233753), (11, 0.002691709184883029), (12, 0.01075869515014165), (13, 0.018810864403100553), (14, 0.01007514810503046), (15, 0.006761724651523887), (16, 0.003303671883374315), (17, 0.009755941396928557), (18, 0.00284675564660861), (19, 0.020166377042139715), (20, 0.05273714042044443), (21, 0.0026053042365114056), (22, 0.01789289487566845), (23, 0.022475649126405952), (24, 0.011963491706770777), (25, 0.016758725164637275), (26, 0.003311213411974959), (27, 0.00299203236896926), (28, 0.0032836772112760392), (29, 0.02248827194170362), (30, 0.28922817537841083), (31, 0.03827695485691149), (32, 0.013042992712052103), (33, 0.003413133526047249), (34, 0.0), (35, 0.0034825119367036497), (36, 0.0031410104900776218), (37, 0.1158459280169076), (38, 0.01058617233926214), (39, 0.002949468132745905), (40, 0.0), (41, 0.00302337967411867), (42, 0.0), (43, 0.023186691527823305), (44, 0.02126290241927575), (45, 0.019290280167758606), (46, 0.027535345267330206), (47, 0.0037281141828904908), (48, 0.011114277583424535), (49, 0.06938965297780426), (50, 0.009911305815599101), (51, 0.002676315783198214), (52, 0.0029206385884276874), (53, 0.003317161705862156), (54, 0.035411767382862155), (55, 0.0031902538295205227), (56, 0.0037965526702051253), (57, 0.0), (58, 0.0035707346603184075), (59, 0.014067057699034552), (60, 0.0), (61, 0.010028831522248621), (62, 0.003121992810747073), (63, 0.0066758722944810465), (64, 0.01818209753377796), (65, 0.0031065220100937), (66, 0.0), (67, 0.0), (68, 0.003028457995919201), (69, 0.019358476876816025), (70, 0.0029895927354889155), (71, 0.012081539436997022), (72, 0.010059834821315143), (73, 0.01741080259499362), (74, 0.0031509826813833947), (75, 0.0030888762057900993), (76, 0.0030004090468375515), (77, 0.0), (78, 0.007951879443082684), (79, 0.0029093363369441573), (80, 0.028857805304978515), (81, 0.02951072537084537), (82, 0.003184206679706283), (83, 0.0033857845869024023), (84, 0.00839956734857574), (85, 0.0035848350887052794), (86, 0.005925733856018804), (87, 0.04265022426845473), (88, 0.014269279476109011), (89, 0.01003852505193608), (90, 0.007076601426428169), (91, 0.003013596281717884), (92, 0.007247644434618873), (93, 0.003067716022412173), (94, 0.02078848894385691), (95, 0.0), (96, 0.090957378380179), (97, 0.0027727613573500123), (98, 0.00999162754842977), (99, 0.0029265312986670755), (100, 0.006224838500453788), (101, 0.021840711712920256), (102, 0.01559601664429299), (103, 0.010209382339549131), (104, 0.04706899340402768), (105, 0.02517142524235519), (106, 0.018874017259869154), (107, 0.010285663094221725), (108, 0.003085984945901408), (109, 0.005304436761080899), (110, 0.0), (111, 0.0034529792158620063), (112, 0.014157385509694916), (113, 0.09325339504004282), (114, 0.01755565667245791), (115, 0.09692654174072081), (116, 0.013127337764033777), (117, 0.006331581174671523), (118, 0.006248327774098954), (119, 0.003225033321026726), (120, 0.0), (121, 0.00938562146472818), (122, 0.0033457464225184644), (123, 0.0029049195709517643), (124, 0.010955070254399948), (125, 0.002986473406552185), (126, 0.010319466777814902), (127, 0.003326160698744161), (128, 0.0), (129, 0.01083371378961496), (130, 0.0), (131, 0.03196899865010391), (132, 0.019092155432923336), (133, 0.01770790091499949), (134, 0.003093059693481985), (135, 0.03350229634690905), (136, 0.0), (137, 0.012471501733945624), (138, 0.009929716489106732), (139, 0.002906276557644364), (140, 0.002954611936234179), (141, 0.0), (142, 0.0), (143, 0.007088723540928721), (144, 0.0), (145, 0.0), (146, 0.0), (147, 0.0028315283587483984), (148, 0.009672924292169347), (149, 0.0030503074502078553), (150, 0.0029699648678887212), (151, 0.0031280147198332188), (152, 0.003041806950122327), (153, 0.002854564748347414), (154, 0.006946554856377875), (155, 0.0), (156, 0.03879566122658168), (157, 0.0031942368041079643), (158, 0.003458857567135523), (159, 1.0), (160, 0.009686967421931699), (161, 0.006815881328960192), (162, 0.026338116008287223), (163, 0.012918029722070642), (164, 0.006083218341021373), (165, 0.02335416721167858), (166, 0.0036076524521572585), (167, 0.020780723530687686), (168, 0.009976989082042826), (169, 0.00316742104478147), (170, 0.0026023726980365434), (171, 0.02672405808989301), (172, 0.006459896561130663), (173, 0.0), (174, 0.002714987280208098), (175, 0.006359093672254419), (176, 0.0), (177, 0.035019694964759006), (178, 0.0), (179, 0.0), (180, 0.0031937293929890894), (181, 0.0), (182, 0.0031136594258463165), (183, 0.04304868070299201), (184, 0.007593531134972817), (185, 0.0), (186, 0.012498965987524143), (187, 0.009425597278575865), (188, 0.0031916302619293137), (189, 0.012559140880174869), (190, 0.0), (191, 0.04464707988633748), (192, 0.0), (193, 0.0032748332632970482), (194, 0.0), (195, 0.0061359673049417125), (196, 0.00316194664178342), (197, 0.007281842275724297), (198, 0.00953501994699631), (199, 0.019991545092681598), (200, 0.0), (201, 0.0), (202, 0.0), (203, 0.002978558727918356), (204, 0.0030579087685568304), (205, 0.003168603115351523), (206, 0.029692335057123407), (207, 0.002814372821489412), (208, 0.010093862587548838), (209, 0.002988656231581332), (210, 0.009311338234445167), (211, 0.006635077168771549), (212, 0.0032078818549460698), (213, 0.0034369167891973827), (214, 0.0), (215, 0.022650826114837916), (216, 0.0031651585748254424), (217, 0.024894411385468097), (218, 0.003384944394911793), (219, 0.003268705274288195), (220, 0.0), (221, 0.0), (222, 0.0031176663403991705), (223, 0.04603971307131178), (224, 0.0029141023432672553), (225, 0.04754897003342386), (226, 0.017008368947260353), (227, 0.019563179999973146), (228, 0.003101410889174742), (229, 0.0032464200539312755), (230, 0.0026272910425202247), (231, 0.017411818700551508)]\n"
          ]
        }
      ],
      "source": [
        "# getting a list of similar movies\n",
        "\n",
        "similarity_score = list(enumerate(similarity[index_of_the_movie]))\n",
        "print(similarity_score)"
      ]
    },
    {
      "cell_type": "code",
      "execution_count": null,
      "metadata": {
        "colab": {
          "base_uri": "https://localhost:8080/"
        },
        "id": "3htr5WqCdPpR",
        "outputId": "a0223aeb-914c-4cc9-fb52-aa255f47f579"
      },
      "outputs": [
        {
          "data": {
            "text/plain": [
              "232"
            ]
          },
          "execution_count": 21,
          "metadata": {},
          "output_type": "execute_result"
        }
      ],
      "source": [
        "len(similarity_score)"
      ]
    },
    {
      "cell_type": "code",
      "execution_count": null,
      "metadata": {
        "colab": {
          "base_uri": "https://localhost:8080/"
        },
        "id": "hMmtY6KodPr_",
        "outputId": "178a376e-d643-43d8-aaea-a40e633b8456"
      },
      "outputs": [
        {
          "name": "stdout",
          "output_type": "stream",
          "text": [
            "[(159, 1.0), (30, 0.28922817537841083), (5, 0.2854488354067277), (37, 0.1158459280169076), (115, 0.09692654174072081), (113, 0.09325339504004282), (96, 0.090957378380179), (4, 0.08230803593109892), (49, 0.06938965297780426), (0, 0.05775184298388447), (20, 0.05273714042044443), (225, 0.04754897003342386), (104, 0.04706899340402768), (223, 0.04603971307131178), (191, 0.04464707988633748), (183, 0.04304868070299201), (87, 0.04265022426845473), (156, 0.03879566122658168), (31, 0.03827695485691149), (54, 0.035411767382862155), (177, 0.035019694964759006), (135, 0.03350229634690905), (131, 0.03196899865010391), (10, 0.03132765816233753), (206, 0.029692335057123407), (1, 0.029597774713485608), (81, 0.02951072537084537), (80, 0.028857805304978515), (46, 0.027535345267330206), (171, 0.02672405808989301), (162, 0.026338116008287223), (105, 0.02517142524235519), (217, 0.024894411385468097), (2, 0.023460412868080267), (165, 0.02335416721167858), (43, 0.023186691527823305), (215, 0.022650826114837916), (29, 0.02248827194170362), (23, 0.022475649126405952), (101, 0.021840711712920256), (44, 0.02126290241927575), (8, 0.020812071214715754), (94, 0.02078848894385691), (167, 0.020780723530687686), (19, 0.020166377042139715), (199, 0.019991545092681598), (227, 0.019563179999973146), (69, 0.019358476876816025), (45, 0.019290280167758606), (132, 0.019092155432923336), (106, 0.018874017259869154), (13, 0.018810864403100553), (64, 0.01818209753377796), (22, 0.01789289487566845), (133, 0.01770790091499949), (114, 0.01755565667245791), (231, 0.017411818700551508), (73, 0.01741080259499362), (226, 0.017008368947260353), (25, 0.016758725164637275), (102, 0.01559601664429299), (88, 0.014269279476109011), (112, 0.014157385509694916), (59, 0.014067057699034552), (116, 0.013127337764033777), (32, 0.013042992712052103), (163, 0.012918029722070642), (189, 0.012559140880174869), (186, 0.012498965987524143), (137, 0.012471501733945624), (71, 0.012081539436997022), (24, 0.011963491706770777), (48, 0.011114277583424535), (124, 0.010955070254399948), (129, 0.01083371378961496), (12, 0.01075869515014165), (38, 0.01058617233926214), (126, 0.010319466777814902), (107, 0.010285663094221725), (9, 0.010273057889161242), (103, 0.010209382339549131), (208, 0.010093862587548838), (14, 0.01007514810503046), (72, 0.010059834821315143), (89, 0.01003852505193608), (61, 0.010028831522248621), (98, 0.00999162754842977), (168, 0.009976989082042826), (138, 0.009929716489106732), (50, 0.009911305815599101), (17, 0.009755941396928557), (160, 0.009686967421931699), (148, 0.009672924292169347), (198, 0.00953501994699631), (187, 0.009425597278575865), (121, 0.00938562146472818), (210, 0.009311338234445167), (84, 0.00839956734857574), (78, 0.007951879443082684), (184, 0.007593531134972817), (197, 0.007281842275724297), (92, 0.007247644434618873), (143, 0.007088723540928721), (90, 0.007076601426428169), (154, 0.006946554856377875), (161, 0.006815881328960192), (15, 0.006761724651523887), (63, 0.0066758722944810465), (211, 0.006635077168771549), (172, 0.006459896561130663), (175, 0.006359093672254419), (117, 0.006331581174671523), (118, 0.006248327774098954), (100, 0.006224838500453788), (195, 0.0061359673049417125), (164, 0.006083218341021373), (86, 0.005925733856018804), (109, 0.005304436761080899), (56, 0.0037965526702051253), (47, 0.0037281141828904908), (166, 0.0036076524521572585), (85, 0.0035848350887052794), (58, 0.0035707346603184075), (35, 0.0034825119367036497), (158, 0.003458857567135523), (111, 0.0034529792158620063), (7, 0.003449713598529517), (3, 0.0034374313890217544), (213, 0.0034369167891973827), (33, 0.003413133526047249), (83, 0.0033857845869024023), (218, 0.003384944394911793), (122, 0.0033457464225184644), (127, 0.003326160698744161), (53, 0.003317161705862156), (26, 0.003311213411974959), (16, 0.003303671883374315), (28, 0.0032836772112760392), (193, 0.0032748332632970482), (219, 0.003268705274288195), (229, 0.0032464200539312755), (119, 0.003225033321026726), (212, 0.0032078818549460698), (157, 0.0031942368041079643), (180, 0.0031937293929890894), (188, 0.0031916302619293137), (55, 0.0031902538295205227), (82, 0.003184206679706283), (205, 0.003168603115351523), (169, 0.00316742104478147), (216, 0.0031651585748254424), (196, 0.00316194664178342), (74, 0.0031509826813833947), (36, 0.0031410104900776218), (151, 0.0031280147198332188), (62, 0.003121992810747073), (222, 0.0031176663403991705), (182, 0.0031136594258463165), (65, 0.0031065220100937), (228, 0.003101410889174742), (134, 0.003093059693481985), (75, 0.0030888762057900993), (108, 0.003085984945901408), (93, 0.003067716022412173), (204, 0.0030579087685568304), (149, 0.0030503074502078553), (152, 0.003041806950122327), (68, 0.003028457995919201), (41, 0.00302337967411867), (91, 0.003013596281717884), (76, 0.0030004090468375515), (27, 0.00299203236896926), (70, 0.0029895927354889155), (209, 0.002988656231581332), (125, 0.002986473406552185), (203, 0.002978558727918356), (150, 0.0029699648678887212), (140, 0.002954611936234179), (39, 0.002949468132745905), (99, 0.0029265312986670755), (52, 0.0029206385884276874), (224, 0.0029141023432672553), (79, 0.0029093363369441573), (139, 0.002906276557644364), (123, 0.0029049195709517643), (153, 0.002854564748347414), (18, 0.00284675564660861), (147, 0.0028315283587483984), (207, 0.002814372821489412), (97, 0.0027727613573500123), (174, 0.002714987280208098), (11, 0.002691709184883029), (51, 0.002676315783198214), (230, 0.0026272910425202247), (21, 0.0026053042365114056), (170, 0.0026023726980365434), (6, 0.0), (34, 0.0), (40, 0.0), (42, 0.0), (57, 0.0), (60, 0.0), (66, 0.0), (67, 0.0), (77, 0.0), (95, 0.0), (110, 0.0), (120, 0.0), (128, 0.0), (130, 0.0), (136, 0.0), (141, 0.0), (142, 0.0), (144, 0.0), (145, 0.0), (146, 0.0), (155, 0.0), (173, 0.0), (176, 0.0), (178, 0.0), (179, 0.0), (181, 0.0), (185, 0.0), (190, 0.0), (192, 0.0), (194, 0.0), (200, 0.0), (201, 0.0), (202, 0.0), (214, 0.0), (220, 0.0), (221, 0.0)]\n"
          ]
        }
      ],
      "source": [
        "# Now, sorting the movies based on their similarity score\n",
        "\n",
        "sorted_similar_movies = sorted(similarity_score, key = lambda x:x[1], reverse = True) \n",
        "print(sorted_similar_movies)"
      ]
    },
    {
      "cell_type": "code",
      "execution_count": null,
      "metadata": {
        "colab": {
          "base_uri": "https://localhost:8080/"
        },
        "id": "tqgoa2B-h7WQ",
        "outputId": "dbfa9dde-55a0-412a-bc9e-fed46f3c5563"
      },
      "outputs": [
        {
          "name": "stdout",
          "output_type": "stream",
          "text": [
            "Movies suggested for you : \n",
            "\n",
            "1 . Spider-Man   http://www.imdb.com/title/tt0145487/?ref_=fn_tt_tt_1\n",
            "2 . Spider-Man 2   http://www.imdb.com/title/tt0316654/?ref_=fn_tt_tt_1\n",
            "3 . Spider-Man 3   http://www.imdb.com/title/tt0413300/?ref_=fn_tt_tt_1\n",
            "4 . Oz: The Great and Powerful   http://www.imdb.com/title/tt1623205/?ref_=fn_tt_tt_1\n",
            "5 . Hancock   http://www.imdb.com/title/tt0448157/?ref_=fn_tt_tt_1\n",
            "6 . Harry Potter and the Order of the Phoenix   http://www.imdb.com/title/tt0373889/?ref_=fn_tt_tt_1\n",
            "7 . Inception   http://www.imdb.com/title/tt1375666/?ref_=fn_tt_tt_1\n",
            "8 . John Carter   http://www.imdb.com/title/tt0401729/?ref_=fn_tt_tt_1\n",
            "9 . The Great Gatsby   http://www.imdb.com/title/tt1343092/?ref_=fn_tt_tt_1\n",
            "10 . Avatar   http://www.imdb.com/title/tt0499549/?ref_=fn_tt_tt_1\n"
          ]
        }
      ],
      "source": [
        "# print the name of similar movies based on the index\n",
        "\n",
        "print('Movies suggested for you : \\n')\n",
        "\n",
        "i = 1\n",
        "\n",
        "for movie in sorted_similar_movies:\n",
        "  index = movie[0]\n",
        "  title_from_index = movies_data[movies_data.index == index]['title'].values[0]\n",
        "  homepage = movies_data[movies_data.index == index]['homepage'].values[0]\n",
        "  if (i <= 10):\n",
        "    print(i, '.', title_from_index, ' ', homepage)\n",
        "    i += 1"
      ]
    },
    {
      "cell_type": "markdown",
      "metadata": {
        "id": "I33Ae-A4Qg4n"
      },
      "source": [
        "Creating the JSON File"
      ]
    },
    {
      "cell_type": "code",
      "execution_count": null,
      "metadata": {
        "id": "mUtmf3cvh7Y4"
      },
      "outputs": [],
      "source": [
        "import json \n",
        "\n",
        "mlist = []\n",
        "\n",
        "i = 0\n",
        "\n",
        "for movie in sorted_similar_movies:\n",
        "  index = movie[0]\n",
        "  title_from_index =  movies_data[movies_data.index == index]['title'].values[0]\n",
        "  homepage_from_index = movies_data[movies_data.index == index]['homepage'].values[0]\n",
        "  if (i <= 10):\n",
        "    mlist.append({'id': i, 'movie_name': title_from_index, 'homepage': homepage_from_index})\n",
        "    i += 1\n",
        "\n",
        "with open('movieJSON.json', 'w') as studs:\n",
        "  json.dump(mlist, studs)  \n"
      ]
    }
  ],
  "metadata": {
    "colab": {
      "collapsed_sections": [],
      "name": "Recommendation System Python Model.ipynb",
      "provenance": []
    },
    "interpreter": {
      "hash": "b12d37cd174cb4ab97407c22be4de09adf5bfa3a0839127fa5255e945678ca20"
    },
    "kernelspec": {
      "display_name": "Python 3.10.0 64-bit",
      "language": "python",
      "name": "python3"
    },
    "language_info": {
      "codemirror_mode": {
        "name": "ipython",
        "version": 3
      },
      "file_extension": ".py",
      "mimetype": "text/x-python",
      "name": "python",
      "nbconvert_exporter": "python",
      "pygments_lexer": "ipython3",
      "version": "3.10.0"
    }
  },
  "nbformat": 4,
  "nbformat_minor": 0
}
