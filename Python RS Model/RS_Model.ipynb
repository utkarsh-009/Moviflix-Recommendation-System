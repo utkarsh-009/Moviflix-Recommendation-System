{
  "cells": [
    {
      "cell_type": "markdown",
      "metadata": {
        "id": "4L5Dmza_Du9G"
      },
      "source": [
        "Importing Dependencies"
      ]
    },
    {
      "cell_type": "code",
      "execution_count": 47,
      "metadata": {
        "colab": {
          "base_uri": "https://localhost:8080/"
        },
        "id": "PWBchYAnqM47",
        "outputId": "8f08b503-2b99-4900-962a-5cf1fe16a071"
      },
      "outputs": [],
      "source": [
        "import numpy as np\n",
        "import pandas as pd\n",
        "import difflib\n",
        "from sklearn.feature_extraction.text import TfidfVectorizer\n",
        "from sklearn.metrics.pairwise import cosine_similarity\n",
        "\n",
        "# from google.colab import drive\n",
        "# drive.mount('/content/drive')"
      ]
    },
    {
      "cell_type": "markdown",
      "metadata": {
        "id": "-CDbWAo_dGX0"
      },
      "source": [
        "Data Collection and Pre-Processing"
      ]
    },
    {
      "cell_type": "code",
      "execution_count": 48,
      "metadata": {
        "id": "Tg96iYi4GagE"
      },
      "outputs": [],
      "source": [
        "# loading the data from the csv file to pandas dataframe\n",
        "\n",
        "\n",
        "url = \"https://drive.google.com/file/d/1wmHJ4aRSddl6uUl95a5T1JibDNjaL0Kn/view?usp=sharing\"\n",
        "path = 'https://drive.google.com/uc?export=download&id='+url.split('/')[-2]\n",
        "movies_data = pd.read_csv(path)"
      ]
    },
    {
      "cell_type": "code",
      "execution_count": 49,
      "metadata": {
        "colab": {
          "base_uri": "https://localhost:8080/",
          "height": 837
        },
        "id": "rbraLdUAH9UH",
        "outputId": "e273cb8e-3b30-48c6-d9b2-4b619891f6e4"
      },
      "outputs": [
        {
          "data": {
            "text/html": [
              "<div>\n",
              "<style scoped>\n",
              "    .dataframe tbody tr th:only-of-type {\n",
              "        vertical-align: middle;\n",
              "    }\n",
              "\n",
              "    .dataframe tbody tr th {\n",
              "        vertical-align: top;\n",
              "    }\n",
              "\n",
              "    .dataframe thead th {\n",
              "        text-align: right;\n",
              "    }\n",
              "</style>\n",
              "<table border=\"1\" class=\"dataframe\">\n",
              "  <thead>\n",
              "    <tr style=\"text-align: right;\">\n",
              "      <th></th>\n",
              "      <th>index</th>\n",
              "      <th>budget</th>\n",
              "      <th>genres</th>\n",
              "      <th>homepage</th>\n",
              "      <th>id</th>\n",
              "      <th>keywords</th>\n",
              "      <th>original_language</th>\n",
              "      <th>original_title</th>\n",
              "      <th>overview</th>\n",
              "      <th>popularity</th>\n",
              "      <th>...</th>\n",
              "      <th>runtime</th>\n",
              "      <th>spoken_languages</th>\n",
              "      <th>status</th>\n",
              "      <th>tagline</th>\n",
              "      <th>title</th>\n",
              "      <th>vote_average</th>\n",
              "      <th>vote_count</th>\n",
              "      <th>cast</th>\n",
              "      <th>crew</th>\n",
              "      <th>director</th>\n",
              "    </tr>\n",
              "  </thead>\n",
              "  <tbody>\n",
              "    <tr>\n",
              "      <th>0</th>\n",
              "      <td>0</td>\n",
              "      <td>237000000</td>\n",
              "      <td>Action Adventure Fantasy Science Fiction</td>\n",
              "      <td>http://www.imdb.com/title/tt0499549/?ref_=fn_t...</td>\n",
              "      <td>19995</td>\n",
              "      <td>culture clash future space war space colony so...</td>\n",
              "      <td>en</td>\n",
              "      <td>Avatar</td>\n",
              "      <td>In the 22nd century, a paraplegic Marine is di...</td>\n",
              "      <td>150.437577</td>\n",
              "      <td>...</td>\n",
              "      <td>162</td>\n",
              "      <td>[{\"iso_639_1\": \"en\", \"name\": \"English\"}, {\"iso...</td>\n",
              "      <td>Released</td>\n",
              "      <td>Enter the World of Pandora.</td>\n",
              "      <td>Avatar</td>\n",
              "      <td>7.2</td>\n",
              "      <td>11800</td>\n",
              "      <td>Sam Worthington Zoe Saldana Sigourney Weaver S...</td>\n",
              "      <td>[{'name': 'Stephen E. Rivkin', 'gender': 0, 'd...</td>\n",
              "      <td>James Cameron</td>\n",
              "    </tr>\n",
              "    <tr>\n",
              "      <th>1</th>\n",
              "      <td>1</td>\n",
              "      <td>300000000</td>\n",
              "      <td>Adventure Fantasy Action</td>\n",
              "      <td>http://www.imdb.com/title/tt0449088/?ref_=fn_t...</td>\n",
              "      <td>285</td>\n",
              "      <td>ocean drug abuse exotic island east india trad...</td>\n",
              "      <td>en</td>\n",
              "      <td>Pirates of the Caribbean: At World's End</td>\n",
              "      <td>Captain Barbossa, long believed to be dead, ha...</td>\n",
              "      <td>139.082615</td>\n",
              "      <td>...</td>\n",
              "      <td>169</td>\n",
              "      <td>[{\"iso_639_1\": \"en\", \"name\": \"English\"}]</td>\n",
              "      <td>Released</td>\n",
              "      <td>At the end of the world, the adventure begins.</td>\n",
              "      <td>Pirates of the Caribbean: At World's End</td>\n",
              "      <td>6.9</td>\n",
              "      <td>4500</td>\n",
              "      <td>Johnny Depp Orlando Bloom Keira Knightley Stel...</td>\n",
              "      <td>[{'name': 'Dariusz Wolski', 'gender': 2, 'depa...</td>\n",
              "      <td>Gore Verbinski</td>\n",
              "    </tr>\n",
              "    <tr>\n",
              "      <th>2</th>\n",
              "      <td>2</td>\n",
              "      <td>245000000</td>\n",
              "      <td>Action Adventure Crime</td>\n",
              "      <td>http://www.imdb.com/title/tt2379713/?ref_=fn_t...</td>\n",
              "      <td>206647</td>\n",
              "      <td>spy based on novel secret agent sequel mi6</td>\n",
              "      <td>en</td>\n",
              "      <td>Spectre</td>\n",
              "      <td>A cryptic message from Bond’s past sends him o...</td>\n",
              "      <td>107.376788</td>\n",
              "      <td>...</td>\n",
              "      <td>148</td>\n",
              "      <td>[{\"iso_639_1\": \"fr\", \"name\": \"Fran\\u00e7ais\"},...</td>\n",
              "      <td>Released</td>\n",
              "      <td>A Plan No One Escapes</td>\n",
              "      <td>Spectre</td>\n",
              "      <td>6.3</td>\n",
              "      <td>4466</td>\n",
              "      <td>Daniel Craig Christoph Waltz L\\u00e9a Seydoux ...</td>\n",
              "      <td>[{'name': 'Thomas Newman', 'gender': 2, 'depar...</td>\n",
              "      <td>Sam Mendes</td>\n",
              "    </tr>\n",
              "    <tr>\n",
              "      <th>3</th>\n",
              "      <td>3</td>\n",
              "      <td>250000000</td>\n",
              "      <td>Action Crime Drama Thriller</td>\n",
              "      <td>http://www.imdb.com/title/tt1345836/?ref_=fn_t...</td>\n",
              "      <td>49026</td>\n",
              "      <td>dc comics crime fighter terrorist secret ident...</td>\n",
              "      <td>en</td>\n",
              "      <td>The Dark Knight Rises</td>\n",
              "      <td>Following the death of District Attorney Harve...</td>\n",
              "      <td>112.312950</td>\n",
              "      <td>...</td>\n",
              "      <td>165</td>\n",
              "      <td>[{\"iso_639_1\": \"en\", \"name\": \"English\"}]</td>\n",
              "      <td>Released</td>\n",
              "      <td>The Legend Ends</td>\n",
              "      <td>The Dark Knight Rises</td>\n",
              "      <td>7.6</td>\n",
              "      <td>9106</td>\n",
              "      <td>Christian Bale Michael Caine Gary Oldman Anne ...</td>\n",
              "      <td>[{'name': 'Hans Zimmer', 'gender': 2, 'departm...</td>\n",
              "      <td>Christopher Nolan</td>\n",
              "    </tr>\n",
              "    <tr>\n",
              "      <th>4</th>\n",
              "      <td>4</td>\n",
              "      <td>260000000</td>\n",
              "      <td>Action Adventure Science Fiction</td>\n",
              "      <td>http://www.imdb.com/title/tt0401729/?ref_=fn_t...</td>\n",
              "      <td>49529</td>\n",
              "      <td>based on novel mars medallion space travel pri...</td>\n",
              "      <td>en</td>\n",
              "      <td>John Carter</td>\n",
              "      <td>John Carter is a war-weary, former military ca...</td>\n",
              "      <td>43.926995</td>\n",
              "      <td>...</td>\n",
              "      <td>132</td>\n",
              "      <td>[{\"iso_639_1\": \"en\", \"name\": \"English\"}]</td>\n",
              "      <td>Released</td>\n",
              "      <td>Lost in our world, found in another.</td>\n",
              "      <td>John Carter</td>\n",
              "      <td>6.1</td>\n",
              "      <td>2124</td>\n",
              "      <td>Taylor Kitsch Lynn Collins Samantha Morton Wil...</td>\n",
              "      <td>[{'name': 'Andrew Stanton', 'gender': 2, 'depa...</td>\n",
              "      <td>Andrew Stanton</td>\n",
              "    </tr>\n",
              "  </tbody>\n",
              "</table>\n",
              "<p>5 rows × 24 columns</p>\n",
              "</div>"
            ],
            "text/plain": [
              "   index     budget                                    genres  \\\n",
              "0      0  237000000  Action Adventure Fantasy Science Fiction   \n",
              "1      1  300000000                  Adventure Fantasy Action   \n",
              "2      2  245000000                    Action Adventure Crime   \n",
              "3      3  250000000               Action Crime Drama Thriller   \n",
              "4      4  260000000          Action Adventure Science Fiction   \n",
              "\n",
              "                                            homepage      id  \\\n",
              "0  http://www.imdb.com/title/tt0499549/?ref_=fn_t...   19995   \n",
              "1  http://www.imdb.com/title/tt0449088/?ref_=fn_t...     285   \n",
              "2  http://www.imdb.com/title/tt2379713/?ref_=fn_t...  206647   \n",
              "3  http://www.imdb.com/title/tt1345836/?ref_=fn_t...   49026   \n",
              "4  http://www.imdb.com/title/tt0401729/?ref_=fn_t...   49529   \n",
              "\n",
              "                                            keywords original_language  \\\n",
              "0  culture clash future space war space colony so...                en   \n",
              "1  ocean drug abuse exotic island east india trad...                en   \n",
              "2         spy based on novel secret agent sequel mi6                en   \n",
              "3  dc comics crime fighter terrorist secret ident...                en   \n",
              "4  based on novel mars medallion space travel pri...                en   \n",
              "\n",
              "                             original_title  \\\n",
              "0                                    Avatar   \n",
              "1  Pirates of the Caribbean: At World's End   \n",
              "2                                   Spectre   \n",
              "3                     The Dark Knight Rises   \n",
              "4                               John Carter   \n",
              "\n",
              "                                            overview  popularity  ... runtime  \\\n",
              "0  In the 22nd century, a paraplegic Marine is di...  150.437577  ...     162   \n",
              "1  Captain Barbossa, long believed to be dead, ha...  139.082615  ...     169   \n",
              "2  A cryptic message from Bond’s past sends him o...  107.376788  ...     148   \n",
              "3  Following the death of District Attorney Harve...  112.312950  ...     165   \n",
              "4  John Carter is a war-weary, former military ca...   43.926995  ...     132   \n",
              "\n",
              "                                    spoken_languages    status  \\\n",
              "0  [{\"iso_639_1\": \"en\", \"name\": \"English\"}, {\"iso...  Released   \n",
              "1           [{\"iso_639_1\": \"en\", \"name\": \"English\"}]  Released   \n",
              "2  [{\"iso_639_1\": \"fr\", \"name\": \"Fran\\u00e7ais\"},...  Released   \n",
              "3           [{\"iso_639_1\": \"en\", \"name\": \"English\"}]  Released   \n",
              "4           [{\"iso_639_1\": \"en\", \"name\": \"English\"}]  Released   \n",
              "\n",
              "                                          tagline  \\\n",
              "0                     Enter the World of Pandora.   \n",
              "1  At the end of the world, the adventure begins.   \n",
              "2                           A Plan No One Escapes   \n",
              "3                                 The Legend Ends   \n",
              "4            Lost in our world, found in another.   \n",
              "\n",
              "                                      title vote_average vote_count  \\\n",
              "0                                    Avatar          7.2      11800   \n",
              "1  Pirates of the Caribbean: At World's End          6.9       4500   \n",
              "2                                   Spectre          6.3       4466   \n",
              "3                     The Dark Knight Rises          7.6       9106   \n",
              "4                               John Carter          6.1       2124   \n",
              "\n",
              "                                                cast  \\\n",
              "0  Sam Worthington Zoe Saldana Sigourney Weaver S...   \n",
              "1  Johnny Depp Orlando Bloom Keira Knightley Stel...   \n",
              "2  Daniel Craig Christoph Waltz L\\u00e9a Seydoux ...   \n",
              "3  Christian Bale Michael Caine Gary Oldman Anne ...   \n",
              "4  Taylor Kitsch Lynn Collins Samantha Morton Wil...   \n",
              "\n",
              "                                                crew           director  \n",
              "0  [{'name': 'Stephen E. Rivkin', 'gender': 0, 'd...      James Cameron  \n",
              "1  [{'name': 'Dariusz Wolski', 'gender': 2, 'depa...     Gore Verbinski  \n",
              "2  [{'name': 'Thomas Newman', 'gender': 2, 'depar...         Sam Mendes  \n",
              "3  [{'name': 'Hans Zimmer', 'gender': 2, 'departm...  Christopher Nolan  \n",
              "4  [{'name': 'Andrew Stanton', 'gender': 2, 'depa...     Andrew Stanton  \n",
              "\n",
              "[5 rows x 24 columns]"
            ]
          },
          "execution_count": 49,
          "metadata": {},
          "output_type": "execute_result"
        }
      ],
      "source": [
        "# printing the first 5 rows of the dataframe\n",
        "\n",
        "movies_data.head()\n",
        "\n"
      ]
    },
    {
      "cell_type": "code",
      "execution_count": 50,
      "metadata": {
        "colab": {
          "base_uri": "https://localhost:8080/"
        },
        "id": "xDtIoV84H9bP",
        "outputId": "35fcaed1-2f40-4f13-e160-38aeb6847892"
      },
      "outputs": [
        {
          "data": {
            "text/plain": [
              "(232, 24)"
            ]
          },
          "execution_count": 50,
          "metadata": {},
          "output_type": "execute_result"
        }
      ],
      "source": [
        "#number of rows and column in the dataframe\n",
        "\n",
        "movies_data.shape"
      ]
    },
    {
      "cell_type": "code",
      "execution_count": 51,
      "metadata": {
        "colab": {
          "base_uri": "https://localhost:8080/"
        },
        "id": "pm0KepuEH9dv",
        "outputId": "97c2db7c-a0ee-4afa-ef4f-876ac320ae78"
      },
      "outputs": [
        {
          "name": "stdout",
          "output_type": "stream",
          "text": [
            "['genres', 'keywords', 'tagline', 'cast', 'director']\n"
          ]
        }
      ],
      "source": [
        "# selecting the relevant features for recommendation\n",
        "\n",
        "selected_features = ['genres','keywords','tagline','cast','director']\n",
        "print(selected_features)"
      ]
    },
    {
      "cell_type": "code",
      "execution_count": 52,
      "metadata": {
        "id": "Bp1FntSQH9g3"
      },
      "outputs": [],
      "source": [
        "# replacing the null valuess with null string\n",
        "\n",
        "for feature in selected_features:\n",
        "  movies_data[feature] = movies_data[feature].fillna('')"
      ]
    },
    {
      "cell_type": "code",
      "execution_count": 53,
      "metadata": {
        "id": "O4tND5WgH9jh"
      },
      "outputs": [],
      "source": [
        "# combining all the 5 selected features\n",
        "\n",
        "combined_features = movies_data['genres']+' '+movies_data['keywords']+' '+movies_data['tagline']+' '+movies_data['cast']+' '+movies_data['director']"
      ]
    },
    {
      "cell_type": "code",
      "execution_count": 54,
      "metadata": {
        "colab": {
          "base_uri": "https://localhost:8080/"
        },
        "id": "vEzELewFH9mO",
        "outputId": "4c1213f8-cac4-4e57-fa22-b482ccd93a5c"
      },
      "outputs": [
        {
          "name": "stdout",
          "output_type": "stream",
          "text": [
            "0      Action Adventure Fantasy Science Fiction cultu...\n",
            "1      Adventure Fantasy Action ocean drug abuse exot...\n",
            "2      Action Adventure Crime spy based on novel secr...\n",
            "3      Action Crime Drama Thriller dc comics crime fi...\n",
            "4      Action Adventure Science Fiction based on nove...\n",
            "                             ...                        \n",
            "227    Action Comedy spy airport gas station garage p...\n",
            "228    Action Science Fiction Adventure Mystery space...\n",
            "229    Science Fiction Adventure Action showdown deat...\n",
            "230    Adventure Action Science Fiction senate invest...\n",
            "231    Animation Comedy Family monster infant energy ...\n",
            "Length: 232, dtype: object\n"
          ]
        }
      ],
      "source": [
        "print(combined_features)"
      ]
    },
    {
      "cell_type": "code",
      "execution_count": 55,
      "metadata": {
        "colab": {
          "base_uri": "https://localhost:8080/",
          "height": 88
        },
        "id": "CHZTaB32H9ob",
        "outputId": "65832c9d-f43a-4ed9-d700-6fd2b8e1536f"
      },
      "outputs": [
        {
          "data": {
            "text/plain": [
              "'\\nNOTES:\\n\\n#Term Frequency Inverse Document Frequency(TF-IDF):\\nTF-IDF: This is very common algorithm to transform text into a meaningful representation of numbers which is used to fit machine algorithm for prediction.\\n\\n#TfidfVectorizer: Transforms text to feature vectors that can be used as input to estimator.\\n'"
            ]
          },
          "execution_count": 55,
          "metadata": {},
          "output_type": "execute_result"
        }
      ],
      "source": [
        "# converting the text data to feature vectors\n",
        "\n",
        "vectorizer = TfidfVectorizer()\n",
        "\n",
        "\n",
        "'''\n",
        "NOTES:\n",
        "\n",
        "#Term Frequency Inverse Document Frequency(TF-IDF):\n",
        "TF-IDF: This is very common algorithm to transform text into a meaningful representation of numbers which is used to fit machine algorithm for prediction.\n",
        "\n",
        "#TfidfVectorizer: Transforms text to feature vectors that can be used as input to estimator.\n",
        "'''"
      ]
    },
    {
      "cell_type": "code",
      "execution_count": 56,
      "metadata": {
        "id": "E3k3lDCrH9qz"
      },
      "outputs": [],
      "source": [
        "# converting combined_features into feature vectors and returning it into matrix form\n",
        "\n",
        "feature_vectors = vectorizer.fit_transform(combined_features)\n"
      ]
    },
    {
      "cell_type": "code",
      "execution_count": 57,
      "metadata": {
        "colab": {
          "base_uri": "https://localhost:8080/"
        },
        "id": "IPXMgExgH9s8",
        "outputId": "b25ca177-5a8e-4909-9c17-80ce632ae64a"
      },
      "outputs": [
        {
          "name": "stdout",
          "output_type": "stream",
          "text": [
            "  (0, 333)\t0.1832577453804889\n",
            "  (0, 1081)\t0.13856884920253712\n",
            "  (0, 1805)\t0.20602156488673865\n",
            "  (0, 1421)\t0.18952822296172242\n",
            "  (0, 1219)\t0.2342171191396742\n",
            "  (0, 2016)\t0.21772377721465797\n",
            "  (0, 2285)\t0.2342171191396742\n",
            "  (0, 1948)\t0.2342171191396742\n",
            "  (0, 1844)\t0.19694462382179778\n",
            "  (0, 2380)\t0.19694462382179778\n",
            "  (0, 2351)\t0.19694462382179778\n",
            "  (0, 1849)\t0.14483932678377065\n",
            "  (0, 1599)\t0.2342171191396742\n",
            "  (0, 1549)\t0.1144444484718379\n",
            "  (0, 2347)\t0.12272636254340342\n",
            "  (0, 2106)\t0.07310079963172518\n",
            "  (0, 682)\t0.2342171191396742\n",
            "  (0, 1973)\t0.2342171191396742\n",
            "  (0, 429)\t0.21772377721465797\n",
            "  (0, 2265)\t0.1496304563808675\n",
            "  (0, 1989)\t0.3045114552876921\n",
            "  (0, 817)\t0.16874906956886224\n",
            "  (0, 412)\t0.21772377721465797\n",
            "  (0, 497)\t0.2342171191396742\n",
            "  (0, 748)\t0.08416240681005557\n",
            "  :\t:\n",
            "  (230, 24)\t0.04582677931678974\n",
            "  (230, 14)\t0.04974745065018604\n",
            "  (231, 421)\t0.2367257807614397\n",
            "  (231, 855)\t0.2367257807614397\n",
            "  (231, 339)\t0.2367257807614397\n",
            "  (231, 201)\t0.2367257807614397\n",
            "  (231, 1871)\t0.2367257807614397\n",
            "  (231, 1789)\t0.2367257807614397\n",
            "  (231, 2049)\t0.2367257807614397\n",
            "  (231, 678)\t0.2367257807614397\n",
            "  (231, 1042)\t0.2367257807614397\n",
            "  (231, 1362)\t0.20822822849435998\n",
            "  (231, 319)\t0.19905406578406595\n",
            "  (231, 2019)\t0.16663799966201487\n",
            "  (231, 877)\t0.20822822849435998\n",
            "  (231, 1120)\t0.1487406470702417\n",
            "  (231, 493)\t0.22005578132285689\n",
            "  (231, 2282)\t0.34111302703397245\n",
            "  (231, 239)\t0.16663799966201487\n",
            "  (231, 434)\t0.10693114690569763\n",
            "  (231, 1456)\t0.17973067622728026\n",
            "  (231, 721)\t0.09235463926668176\n",
            "  (231, 90)\t0.1078153374853316\n",
            "  (231, 440)\t0.20822822849435998\n",
            "  (231, 1081)\t0.14005303769927682\n"
          ]
        }
      ],
      "source": [
        "print(feature_vectors)"
      ]
    },
    {
      "cell_type": "markdown",
      "metadata": {
        "id": "cvi4yJipQDpc"
      },
      "source": [
        "Cosine Similarity"
      ]
    },
    {
      "cell_type": "code",
      "execution_count": 58,
      "metadata": {
        "colab": {
          "base_uri": "https://localhost:8080/",
          "height": 88
        },
        "id": "jvIFkAYYP_Mc",
        "outputId": "7d83e6d5-2a59-42fd-93a6-57b7bd9c9393"
      },
      "outputs": [
        {
          "data": {
            "text/plain": [
              "'\\nNOTES: \\nCosine similarity measures the similarity between two vectors of an inner product space\\nIt is measured by the cosine of the angle between two vectors and determines whether two vectors are pointing in roughly the same direction.\\nIt is often used to measure document similarity in text analysis.\\n'"
            ]
          },
          "execution_count": 58,
          "metadata": {},
          "output_type": "execute_result"
        }
      ],
      "source": [
        "# getting the similarity scores using cosine similarity\n",
        "\n",
        "similarity = cosine_similarity(feature_vectors)\n",
        "\n",
        "'''\n",
        "NOTES: \n",
        "Cosine similarity measures the similarity between two vectors of an inner product space\n",
        "It is measured by the cosine of the angle between two vectors and determines whether two vectors are pointing in roughly the same direction.\n",
        "It is often used to measure document similarity in text analysis.\n",
        "'''"
      ]
    },
    {
      "cell_type": "code",
      "execution_count": 59,
      "metadata": {
        "colab": {
          "base_uri": "https://localhost:8080/"
        },
        "id": "k9jNS0hHP_XL",
        "outputId": "3d5cde02-f6d5-4cac-db2b-3cfc54576ffe"
      },
      "outputs": [
        {
          "name": "stdout",
          "output_type": "stream",
          "text": [
            "[[1.         0.06570116 0.02929416 ... 0.02706319 0.01738583 0.01940699]\n",
            " [0.06570116 1.         0.02934304 ... 0.02344592 0.02496598 0.03795467]\n",
            " [0.02929416 0.02934304 1.         ... 0.00715561 0.00579095 0.        ]\n",
            " ...\n",
            " [0.02706319 0.02344592 0.00715561 ... 1.         0.5199361  0.        ]\n",
            " [0.01738583 0.02496598 0.00579095 ... 0.5199361  1.         0.        ]\n",
            " [0.01940699 0.03795467 0.         ... 0.         0.         1.        ]]\n"
          ]
        }
      ],
      "source": [
        "print(similarity)"
      ]
    },
    {
      "cell_type": "markdown",
      "metadata": {
        "id": "rnlML1DjS1dJ"
      },
      "source": [
        "Getting the movie name from the user"
      ]
    },
    {
      "cell_type": "code",
      "execution_count": 60,
      "metadata": {
        "colab": {
          "base_uri": "https://localhost:8080/"
        },
        "id": "KAZAkcBnSU0x",
        "outputId": "21092d97-57b9-41ac-e415-f4506b31898a"
      },
      "outputs": [],
      "source": [
        "# getting the movie name from the user\n",
        "\n",
        "movie_name = input(' Enter your favourite movie name : ')"
      ]
    },
    {
      "cell_type": "code",
      "execution_count": 61,
      "metadata": {
        "colab": {
          "base_uri": "https://localhost:8080/"
        },
        "id": "V2UNQ8JqP_Zg",
        "outputId": "c127128b-9223-462e-b9ea-ff4c22e09ffe"
      },
      "outputs": [
        {
          "name": "stdout",
          "output_type": "stream",
          "text": [
            "['Avatar', \"Pirates of the Caribbean: At World's End\", 'Spectre', 'The Dark Knight Rises', 'John Carter', 'Spider-Man 3', 'Tangled', 'Avengers: Age of Ultron', 'Harry Potter and the Half-Blood Prince', 'Batman v Superman: Dawn of Justice', 'Superman Returns', 'Quantum of Solace', \"Pirates of the Caribbean: Dead Man's Chest\", 'The Lone Ranger', 'Man of Steel', 'The Chronicles of Narnia: Prince Caspian', 'The Avengers', 'Pirates of the Caribbean: On Stranger Tides', 'Men in Black 3', 'The Hobbit: The Battle of the Five Armies', 'The Amazing Spider-Man', 'Robin Hood', 'The Hobbit: The Desolation of Smaug', 'The Golden Compass', 'King Kong', 'Titanic', 'Captain America: Civil War', 'Battleship', 'Jurassic World', 'Skyfall', 'Spider-Man 2', 'Iron Man 3', 'Alice in Wonderland', 'X-Men: The Last Stand', 'Monsters University', 'Transformers: Revenge of the Fallen', 'Transformers: Age of Extinction', 'Oz: The Great and Powerful', 'The Amazing Spider-Man 2', 'TRON: Legacy', 'Cars 2', 'Green Lantern', 'Toy Story 3', 'Terminator Salvation', 'Furious 7', 'World War Z', 'X-Men: Days of Future Past', 'Star Trek Into Darkness', 'Jack the Giant Slayer', 'The Great Gatsby', 'Prince of Persia: The Sands of Time', 'Pacific Rim', 'Transformers: Dark of the Moon', 'Indiana Jones and the Kingdom of the Crystal Skull', 'The Good Dinosaur', 'Brave', 'Star Trek Beyond', 'WALL·E', 'Rush Hour 3', '2012', 'A Christmas Carol', 'Jupiter Ascending', 'The Legend of Tarzan', 'The Chronicles of Narnia: The Lion, the Witch and the Wardrobe', 'X-Men: Apocalypse', 'The Dark Knight', 'Up', 'Monsters vs Aliens', 'Iron Man', 'Hugo', 'Wild Wild West', 'The Mummy: Tomb of the Dragon Emperor', 'Suicide Squad', 'Evan Almighty', 'Edge of Tomorrow', 'Waterworld', 'G.I. Joe: The Rise of Cobra', 'Inside Out', 'The Jungle Book', 'Iron Man 2', 'Snow White and the Huntsman', 'Maleficent', 'Dawn of the Planet of the Apes', 'The Lovers', '47 Ronin', 'Captain America: The Winter Soldier', 'Shrek Forever After', 'Tomorrowland', 'Big Hero 6', 'Wreck-It Ralph', 'The Polar Express', 'Independence Day: Resurgence', 'How to Train Your Dragon', 'Terminator 3: Rise of the Machines', 'Guardians of the Galaxy', 'Interstellar', 'Inception', 'Shin Godzilla', 'The Hobbit: An Unexpected Journey', 'The Fast and the Furious', 'The Curious Case of Benjamin Button', 'X-Men: First Class', 'The Hunger Games: Mockingjay - Part 2', \"The Sorcerer's Apprentice\", 'Poseidon', 'Alice Through the Looking Glass', 'Shrek the Third', 'Warcraft', 'Terminator Genisys', 'The Chronicles of Narnia: The Voyage of the Dawn Treader', 'Pearl Harbor', 'Transformers', 'Alexander', 'Harry Potter and the Order of the Phoenix', 'Harry Potter and the Goblet of Fire', 'Hancock', 'I Am Legend', 'Charlie and the Chocolate Factory', 'Ratatouille', 'Batman Begins', 'Madagascar: Escape 2 Africa', 'Night at the Museum: Battle of the Smithsonian', 'X-Men Origins: Wolverine', 'The Matrix Revolutions', 'Frozen', 'The Matrix Reloaded', 'Thor: The Dark World', 'Mad Max: Fury Road', 'Angels & Demons', 'Thor', 'Bolt', 'G-Force', 'Wrath of the Titans', 'Dark Shadows', 'Mission: Impossible - Rogue Nation', 'The Wolfman', 'Bee Movie', 'Kung Fu Panda 2', 'The Last Airbender', 'Mission: Impossible III', 'White House Down', 'Mars Needs Moms', 'Flushed Away', 'Pan', 'Mr. Peabody & Sherman', 'Troy', \"Madagascar 3: Europe's Most Wanted\", 'Die Another Day', 'Ghostbusters', 'Armageddon', 'Men in Black II', 'Beowulf', 'Kung Fu Panda 3', 'Mission: Impossible - Ghost Protocol', 'Rise of the Guardians', 'Fun with Dick and Jane', 'The Last Samurai', 'Exodus: Gods and Kings', 'Star Trek', 'Spider-Man', 'How to Train Your Dragon 2', 'Gods of Egypt', 'Stealth', 'Watchmen', 'Lethal Weapon 4', 'Hulk', 'G.I. Joe: Retaliation', 'Sahara', 'Final Fantasy: The Spirits Within', 'Captain America: The First Avenger', 'The World Is Not Enough', 'Master and Commander: The Far Side of the World', 'The Twilight Saga: Breaking Dawn - Part 2', 'Happy Feet Two', 'The Incredible Hulk', 'The BFG', 'The Revenant', 'Turbo', 'Rango', 'Penguins of Madagascar', 'The Bourne Ultimatum', 'Kung Fu Panda', 'Ant-Man', 'The Hunger Games: Catching Fire', 'Home', 'War of the Worlds', 'Bad Boys II', 'Puss in Boots', 'Salt', 'Noah', 'The Adventures of Tintin', 'Harry Potter and the Prisoner of Azkaban', 'Australia', 'After Earth', 'Dinosaur', 'Night at the Museum: Secret of the Tomb', 'Megamind', \"Harry Potter and the Philosopher's Stone\", 'R.I.P.D.', 'Pirates of the Caribbean: The Curse of the Black Pearl', 'The Hunger Games: Mockingjay - Part 1', 'The Da Vinci Code', 'Rio 2', 'X2', 'Fast Five', 'Sherlock Holmes: A Game of Shadows', 'Clash of the Titans', 'Total Recall', 'The 13th Warrior', 'The Bourne Legacy', 'Batman & Robin', 'How the Grinch Stole Christmas', 'The Day After Tomorrow', 'Mission: Impossible II', 'The Perfect Storm', 'Fantastic 4: Rise of the Silver Surfer', 'Life of Pi', 'Ghost Rider', 'Jason Bourne', \"Charlie's Angels: Full Throttle\", 'Prometheus', 'Stuart Little 2', 'Elysium', 'The Chronicles of Riddick', 'RoboCop', 'Speed Racer', 'How Do You Know', 'Knight and Day', 'Oblivion', 'Star Wars: Episode III - Revenge of the Sith', 'Star Wars: Episode II - Attack of the Clones', 'Monsters, Inc.']\n"
          ]
        }
      ],
      "source": [
        "# creating a list with all the movie names given in the dataset\n",
        "\n",
        "list_of_all_titles = movies_data['title'].tolist()\n",
        "print(list_of_all_titles)\n",
        "\n",
        "#list_of_all_titles: Stores names of all movies in form of list"
      ]
    },
    {
      "cell_type": "code",
      "execution_count": 62,
      "metadata": {
        "colab": {
          "base_uri": "https://localhost:8080/",
          "height": 88
        },
        "id": "7V_u7AqLY6cK",
        "outputId": "6e14692c-8689-47ef-fb30-3457cdc41fd7"
      },
      "outputs": [
        {
          "name": "stdout",
          "output_type": "stream",
          "text": [
            "['Hulk']\n"
          ]
        },
        {
          "data": {
            "text/plain": [
              "'\\nNOTES:\\nThe get_close_matches() function returns a list of close matched strings that satisfy the cutoff. \\nThe order of close matched string is based on similarity score, so the most similar string comes first in the list.\\n'"
            ]
          },
          "execution_count": 62,
          "metadata": {},
          "output_type": "execute_result"
        }
      ],
      "source": [
        "# finding the close match for the movie name given by the user\n",
        "\n",
        "find_close_match = difflib.get_close_matches(movie_name, list_of_all_titles)\n",
        "print(find_close_match)\n",
        "\n",
        "#find_close_match: Stores name of all movies close matching with movie_name \n",
        "\n",
        "'''\n",
        "NOTES:\n",
        "The get_close_matches() function returns a list of close matched strings that satisfy the cutoff. \n",
        "The order of close matched string is based on similarity score, so the most similar string comes first in the list.\n",
        "'''"
      ]
    },
    {
      "cell_type": "code",
      "execution_count": 63,
      "metadata": {
        "colab": {
          "base_uri": "https://localhost:8080/"
        },
        "id": "T_cswPrjdPXY",
        "outputId": "ed1f1adf-a759-47e3-9c14-8da3ec211ed8"
      },
      "outputs": [
        {
          "name": "stdout",
          "output_type": "stream",
          "text": [
            "Hulk\n"
          ]
        }
      ],
      "source": [
        "close_match = find_close_match[0]\n",
        "print(close_match)"
      ]
    },
    {
      "cell_type": "code",
      "execution_count": 64,
      "metadata": {
        "colab": {
          "base_uri": "https://localhost:8080/"
        },
        "id": "Ako1GmKjdPes",
        "outputId": "cb55d7b6-b82c-44e9-8447-937e8d43a6ce"
      },
      "outputs": [
        {
          "name": "stdout",
          "output_type": "stream",
          "text": [
            "165\n"
          ]
        }
      ],
      "source": [
        "# finding the index of the movie with title\n",
        "\n",
        "index_of_the_movie = movies_data[movies_data.title == close_match]['index'].values[0]\n",
        "print(index_of_the_movie)"
      ]
    },
    {
      "cell_type": "code",
      "execution_count": 65,
      "metadata": {
        "colab": {
          "base_uri": "https://localhost:8080/"
        },
        "id": "qiwNPNsudPmp",
        "outputId": "53c8d516-de1b-4e8e-c04a-c76ccd5b7c64"
      },
      "outputs": [
        {
          "name": "stdout",
          "output_type": "stream",
          "text": [
            "[(0, 0.04680718096456294), (1, 0.018368710127683437), (2, 0.027846201691227205), (3, 0.025794657078294862), (4, 0.017528052353026197), (5, 0.08591482213433026), (6, 0.0), (7, 0.02083544506596688), (8, 0.0), (9, 0.0038090463301267093), (10, 0.028201413503233682), (11, 0.0031949086862986214), (12, 0.04039435689694906), (13, 0.008677027192179177), (14, 0.024770071593100955), (15, 0.0), (16, 0.01995338803527516), (17, 0.0036173097801881467), (18, 0.07277982437277841), (19, 0.014004232158799718), (20, 0.009544081509848833), (21, 0.00309235083137059), (22, 0.0054760424058776895), (23, 0.06911506922299149), (24, 0.02336295976866229), (25, 0.013568427958401573), (26, 0.01999893706431314), (27, 0.023548101785243757), (28, 0.10504210120473273), (29, 0.02669232462775011), (30, 0.05721854720197297), (31, 0.07609054076463125), (32, 0.0), (33, 0.02061451017704212), (34, 0.033787222397120974), (35, 0.04868814558340581), (36, 0.018970952123542797), (37, 0.023006540144052897), (38, 0.003925142964637532), (39, 0.023213109765306487), (40, 0.005794961604023949), (41, 0.018260490128952193), (42, 0.029784350745819706), (43, 0.16225026835766626), (44, 0.0038581093470451515), (45, 0.031041187879207732), (46, 0.05863398703588308), (47, 0.022516918010346592), (48, 0.004120953926076753), (49, 0.01675108204979784), (50, 0.009342381882632344), (51, 0.0451547945796702), (52, 0.04617898698636001), (53, 0.016081474001425268), (54, 0.0), (55, 0.0037866533757343807), (56, 0.022930270105271156), (57, 0.006540666117724279), (58, 0.01077452447965683), (59, 0.023161623223876483), (60, 0.014596826130115688), (61, 0.01892153139927652), (62, 0.003705631353355553), (63, 0.005551609720569581), (64, 0.05118262369181908), (65, 0.017624980358091832), (66, 0.005327248455452449), (67, 0.01564180414075006), (68, 0.018291161978043483), (69, 0.01617605448615157), (70, 0.01805642510046185), (71, 0.004479595457485728), (72, 0.04963404454102059), (73, 0.0), (74, 0.019031181773977345), (75, 0.014974754564798654), (76, 0.018121753034066823), (77, 0.018922457108038075), (78, 0.016207868343735596), (79, 0.06192786475569114), (80, 0.04720148653450801), (81, 0.02628288512390093), (82, 0.03351809855687285), (83, 0.04733582422037328), (84, 0.014886662052251438), (85, 0.02165154654957663), (86, 0.0), (87, 0.015128859909398894), (88, 0.0381276074420607), (89, 0.004861329012803819), (90, 0.0), (91, 0.018201400778748673), (92, 0.0), (93, 0.07051893641650372), (94, 0.019193949004288093), (95, 0.02978414941457548), (96, 0.028928116091465447), (97, 0.08925749527079693), (98, 0.015131488517585449), (99, 0.003473629439371452), (100, 0.0126877379867896), (101, 0.0560458946932517), (102, 0.08068013916689497), (103, 0.023932132277787743), (104, 0.08429973245121565), (105, 0.0), (106, 0.0), (107, 0.0038137200904222474), (108, 0.029936456817895935), (109, 0.0), (110, 0.019435590473826404), (111, 0.048275255853823716), (112, 0.02222567120539587), (113, 0.006113287424011935), (114, 0.0), (115, 0.030880824943808408), (116, 0.038963219103903775), (117, 0.0), (118, 0.0), (119, 0.02420081135223274), (120, 0.04199150353692295), (121, 0.01421374272965737), (122, 0.026331926794034424), (123, 0.022862500567894618), (124, 0.028319774783757426), (125, 0.023504351251601396), (126, 0.00972711378875527), (127, 0.04650223725795644), (128, 0.0), (129, 0.03702908538501734), (130, 0.0), (131, 0.03524368048483382), (132, 0.028433725290238722), (133, 0.028879641253668695), (134, 0.003671289356756859), (135, 0.02228344940572293), (136, 0.0), (137, 0.03545693683281606), (138, 0.0036817421414451663), (139, 0.00876955329752777), (140, 0.02217155575468422), (141, 0.0), (142, 0.0), (143, 0.0), (144, 0.0), (145, 0.0760601635365488), (146, 0.0), (147, 0.030981349903395378), (148, 0.003586528682521556), (149, 0.029590357330074642), (150, 0.05234530381994796), (151, 0.034225374518572986), (152, 0.036299395901174425), (153, 0.0033882091577041276), (154, 0.0), (155, 0.0), (156, 0.06595171120713599), (157, 0.018122633848584518), (158, 0.12007323486015699), (159, 0.02335416721167858), (160, 0.009130920851808475), (161, 0.005668040275633458), (162, 0.11368558159851132), (163, 0.01632270484643335), (164, 0.018355826227812615), (165, 1.0000000000000002), (166, 0.021789357967590166), (167, 0.018023392631901208), (168, 0.06413837228209023), (169, 0.05002745478468369), (170, 0.012616204031155747), (171, 0.015743854478241313), (172, 0.01853884938152192), (173, 0.0), (174, 0.016397873828043998), (175, 0.005288178785877221), (176, 0.01699503730682637), (177, 0.0), (178, 0.0), (179, 0.04641630217369898), (180, 0.018119755030737872), (181, 0.0), (182, 0.018805758237148865), (183, 0.07439284703068488), (184, 0.04749860531048641), (185, 0.014407662839642508), (186, 0.007890249316003498), (187, 0.003494824726052722), (188, 0.0037882871242402175), (189, 0.11672967512721937), (190, 0.03788655864423885), (191, 0.03579325604244116), (192, 0.013930573951226221), (193, 0.01977920966735085), (194, 0.0), (195, 0.005102628425557618), (196, 0.03067334441406072), (197, 0.012111060421268308), (198, 0.008987695391575588), (199, 0.008640902466987406), (200, 0.07685690670549816), (201, 0.0059937471027122985), (202, 0.0), (203, 0.0234420605959254), (204, 0.009227096387059706), (205, 0.009561111390345524), (206, 0.026861462717164702), (207, 0.016998138727310094), (208, 0.009514459619970527), (209, 0.0035473682700438687), (210, 0.0034524597362487613), (211, 0.0055176847731693845), (212, 0.02524689546100385), (213, 0.010370735325499834), (214, 0.019947859547832257), (215, 0.01572951982589417), (216, 0.10602307442037064), (217, 0.06162760871384189), (218, 0.03703658710614302), (219, 0.009863164963218256), (220, 0.018924557376759098), (221, 0.0), (222, 0.03281767114268588), (223, 0.027959316924984653), (224, 0.022934771462888436), (225, 0.019843939692674752), (226, 0.013770547967322754), (227, 0.003549698255088641), (228, 0.01873178000513915), (229, 0.06549682562773516), (230, 0.048196560773252614), (231, 0.034035630550799494)]\n"
          ]
        }
      ],
      "source": [
        "# getting a list of similar movies\n",
        "\n",
        "similarity_score = list(enumerate(similarity[index_of_the_movie]))\n",
        "print(similarity_score)"
      ]
    },
    {
      "cell_type": "code",
      "execution_count": 66,
      "metadata": {
        "colab": {
          "base_uri": "https://localhost:8080/"
        },
        "id": "3htr5WqCdPpR",
        "outputId": "a0223aeb-914c-4cc9-fb52-aa255f47f579"
      },
      "outputs": [
        {
          "data": {
            "text/plain": [
              "232"
            ]
          },
          "execution_count": 66,
          "metadata": {},
          "output_type": "execute_result"
        }
      ],
      "source": [
        "len(similarity_score)"
      ]
    },
    {
      "cell_type": "code",
      "execution_count": 67,
      "metadata": {
        "colab": {
          "base_uri": "https://localhost:8080/"
        },
        "id": "hMmtY6KodPr_",
        "outputId": "178a376e-d643-43d8-aaea-a40e633b8456"
      },
      "outputs": [
        {
          "name": "stdout",
          "output_type": "stream",
          "text": [
            "[(165, 1.0000000000000002), (43, 0.16225026835766626), (158, 0.12007323486015699), (189, 0.11672967512721937), (162, 0.11368558159851132), (216, 0.10602307442037064), (28, 0.10504210120473273), (97, 0.08925749527079693), (5, 0.08591482213433026), (104, 0.08429973245121565), (102, 0.08068013916689497), (200, 0.07685690670549816), (31, 0.07609054076463125), (145, 0.0760601635365488), (183, 0.07439284703068488), (18, 0.07277982437277841), (93, 0.07051893641650372), (23, 0.06911506922299149), (156, 0.06595171120713599), (229, 0.06549682562773516), (168, 0.06413837228209023), (79, 0.06192786475569114), (217, 0.06162760871384189), (46, 0.05863398703588308), (30, 0.05721854720197297), (101, 0.0560458946932517), (150, 0.05234530381994796), (64, 0.05118262369181908), (169, 0.05002745478468369), (72, 0.04963404454102059), (35, 0.04868814558340581), (111, 0.048275255853823716), (230, 0.048196560773252614), (184, 0.04749860531048641), (83, 0.04733582422037328), (80, 0.04720148653450801), (0, 0.04680718096456294), (127, 0.04650223725795644), (179, 0.04641630217369898), (52, 0.04617898698636001), (51, 0.0451547945796702), (120, 0.04199150353692295), (12, 0.04039435689694906), (116, 0.038963219103903775), (88, 0.0381276074420607), (190, 0.03788655864423885), (218, 0.03703658710614302), (129, 0.03702908538501734), (152, 0.036299395901174425), (191, 0.03579325604244116), (137, 0.03545693683281606), (131, 0.03524368048483382), (151, 0.034225374518572986), (231, 0.034035630550799494), (34, 0.033787222397120974), (82, 0.03351809855687285), (222, 0.03281767114268588), (45, 0.031041187879207732), (147, 0.030981349903395378), (115, 0.030880824943808408), (196, 0.03067334441406072), (108, 0.029936456817895935), (42, 0.029784350745819706), (95, 0.02978414941457548), (149, 0.029590357330074642), (96, 0.028928116091465447), (133, 0.028879641253668695), (132, 0.028433725290238722), (124, 0.028319774783757426), (10, 0.028201413503233682), (223, 0.027959316924984653), (2, 0.027846201691227205), (206, 0.026861462717164702), (29, 0.02669232462775011), (122, 0.026331926794034424), (81, 0.02628288512390093), (3, 0.025794657078294862), (212, 0.02524689546100385), (14, 0.024770071593100955), (119, 0.02420081135223274), (103, 0.023932132277787743), (27, 0.023548101785243757), (125, 0.023504351251601396), (203, 0.0234420605959254), (24, 0.02336295976866229), (159, 0.02335416721167858), (39, 0.023213109765306487), (59, 0.023161623223876483), (37, 0.023006540144052897), (224, 0.022934771462888436), (56, 0.022930270105271156), (123, 0.022862500567894618), (47, 0.022516918010346592), (135, 0.02228344940572293), (112, 0.02222567120539587), (140, 0.02217155575468422), (166, 0.021789357967590166), (85, 0.02165154654957663), (7, 0.02083544506596688), (33, 0.02061451017704212), (26, 0.01999893706431314), (16, 0.01995338803527516), (214, 0.019947859547832257), (225, 0.019843939692674752), (193, 0.01977920966735085), (110, 0.019435590473826404), (94, 0.019193949004288093), (74, 0.019031181773977345), (36, 0.018970952123542797), (220, 0.018924557376759098), (77, 0.018922457108038075), (61, 0.01892153139927652), (182, 0.018805758237148865), (228, 0.01873178000513915), (172, 0.01853884938152192), (1, 0.018368710127683437), (164, 0.018355826227812615), (68, 0.018291161978043483), (41, 0.018260490128952193), (91, 0.018201400778748673), (157, 0.018122633848584518), (76, 0.018121753034066823), (180, 0.018119755030737872), (70, 0.01805642510046185), (167, 0.018023392631901208), (65, 0.017624980358091832), (4, 0.017528052353026197), (207, 0.016998138727310094), (176, 0.01699503730682637), (49, 0.01675108204979784), (174, 0.016397873828043998), (163, 0.01632270484643335), (78, 0.016207868343735596), (69, 0.01617605448615157), (53, 0.016081474001425268), (171, 0.015743854478241313), (215, 0.01572951982589417), (67, 0.01564180414075006), (98, 0.015131488517585449), (87, 0.015128859909398894), (75, 0.014974754564798654), (84, 0.014886662052251438), (60, 0.014596826130115688), (185, 0.014407662839642508), (121, 0.01421374272965737), (19, 0.014004232158799718), (192, 0.013930573951226221), (226, 0.013770547967322754), (25, 0.013568427958401573), (100, 0.0126877379867896), (170, 0.012616204031155747), (197, 0.012111060421268308), (58, 0.01077452447965683), (213, 0.010370735325499834), (219, 0.009863164963218256), (126, 0.00972711378875527), (205, 0.009561111390345524), (20, 0.009544081509848833), (208, 0.009514459619970527), (50, 0.009342381882632344), (204, 0.009227096387059706), (160, 0.009130920851808475), (198, 0.008987695391575588), (139, 0.00876955329752777), (13, 0.008677027192179177), (199, 0.008640902466987406), (186, 0.007890249316003498), (57, 0.006540666117724279), (113, 0.006113287424011935), (201, 0.0059937471027122985), (40, 0.005794961604023949), (161, 0.005668040275633458), (63, 0.005551609720569581), (211, 0.0055176847731693845), (22, 0.0054760424058776895), (66, 0.005327248455452449), (175, 0.005288178785877221), (195, 0.005102628425557618), (89, 0.004861329012803819), (71, 0.004479595457485728), (48, 0.004120953926076753), (38, 0.003925142964637532), (44, 0.0038581093470451515), (107, 0.0038137200904222474), (9, 0.0038090463301267093), (188, 0.0037882871242402175), (55, 0.0037866533757343807), (62, 0.003705631353355553), (138, 0.0036817421414451663), (134, 0.003671289356756859), (17, 0.0036173097801881467), (148, 0.003586528682521556), (227, 0.003549698255088641), (209, 0.0035473682700438687), (187, 0.003494824726052722), (99, 0.003473629439371452), (210, 0.0034524597362487613), (153, 0.0033882091577041276), (11, 0.0031949086862986214), (21, 0.00309235083137059), (6, 0.0), (8, 0.0), (15, 0.0), (32, 0.0), (54, 0.0), (73, 0.0), (86, 0.0), (90, 0.0), (92, 0.0), (105, 0.0), (106, 0.0), (109, 0.0), (114, 0.0), (117, 0.0), (118, 0.0), (128, 0.0), (130, 0.0), (136, 0.0), (141, 0.0), (142, 0.0), (143, 0.0), (144, 0.0), (146, 0.0), (154, 0.0), (155, 0.0), (173, 0.0), (177, 0.0), (178, 0.0), (181, 0.0), (194, 0.0), (202, 0.0), (221, 0.0)]\n"
          ]
        }
      ],
      "source": [
        "# Now, sorting the movies based on their similarity score\n",
        "\n",
        "sorted_similar_movies = sorted(similarity_score, key = lambda x:x[1], reverse = True) \n",
        "print(sorted_similar_movies)"
      ]
    },
    {
      "cell_type": "code",
      "execution_count": 68,
      "metadata": {
        "colab": {
          "base_uri": "https://localhost:8080/"
        },
        "id": "tqgoa2B-h7WQ",
        "outputId": "dbfa9dde-55a0-412a-bc9e-fed46f3c5563"
      },
      "outputs": [
        {
          "name": "stdout",
          "output_type": "stream",
          "text": [
            "Movies suggested for you : \n",
            "\n",
            "1 . Hulk   http://www.imdb.com/title/tt0286716/?ref_=fn_tt_tt_1\n",
            "2 . Terminator Salvation   http://www.imdb.com/title/tt0438488/?ref_=fn_tt_tt_1\n",
            "3 . Star Trek   http://www.imdb.com/title/tt0796366/?ref_=fn_tt_tt_1\n",
            "4 . Noah   http://www.imdb.com/title/tt1959490/?ref_=fn_tt_tt_1\n",
            "5 . Stealth   http://www.imdb.com/title/tt0382992/?ref_=fn_tt_tt_1\n",
            "6 . Life of Pi   http://www.imdb.com/title/tt0454876/?ref_=fn_tt_tt_1\n",
            "7 . Jurassic World   http://www.imdb.com/title/tt0369610/?ref_=fn_tt_tt_1\n",
            "8 . Shin Godzilla   http://www.imdb.com/title/tt4262980/?ref_=fn_tt_tt_1\n",
            "9 . Spider-Man 3   http://www.imdb.com/title/tt0413300/?ref_=fn_tt_tt_1\n",
            "10 . Poseidon   http://www.imdb.com/title/tt0409182/?ref_=fn_tt_tt_1\n"
          ]
        }
      ],
      "source": [
        "# print the name of similar movies based on the index\n",
        "\n",
        "print('Movies suggested for you : \\n')\n",
        "\n",
        "i = 1\n",
        "\n",
        "for movie in sorted_similar_movies:\n",
        "  index = movie[0]\n",
        "  title_from_index = movies_data[movies_data.index == index]['title'].values[0]\n",
        "  homepage = movies_data[movies_data.index == index]['homepage'].values[0]\n",
        "  if (i <= 10):\n",
        "    print(i, '.', title_from_index, ' ', homepage)\n",
        "    i += 1"
      ]
    },
    {
      "cell_type": "markdown",
      "metadata": {
        "id": "I33Ae-A4Qg4n"
      },
      "source": [
        "Creating the JSON File"
      ]
    },
    {
      "cell_type": "code",
      "execution_count": 69,
      "metadata": {
        "id": "mUtmf3cvh7Y4"
      },
      "outputs": [],
      "source": [
        "import json \n",
        "\n",
        "mlist = []\n",
        "\n",
        "i = 0\n",
        "\n",
        "for movie in sorted_similar_movies:\n",
        "  index = movie[0]\n",
        "  title_from_index =  movies_data[movies_data.index == index]['title'].values[0]\n",
        "  homepage_from_index = movies_data[movies_data.index == index]['homepage'].values[0]\n",
        "  if (i <= 10):\n",
        "    mlist.append({'id': i, 'movie_name': title_from_index, 'homepage': homepage_from_index})\n",
        "    i += 1\n",
        "\n",
        "with open('movieJSON.json', 'w') as studs:\n",
        "  json.dump(mlist, studs)  \n"
      ]
    }
  ],
  "metadata": {
    "colab": {
      "collapsed_sections": [],
      "name": "Recommendation System Python Model.ipynb",
      "provenance": []
    },
    "interpreter": {
      "hash": "92fe0fd51d9393d9154625b64c051be7714c636b4cbce27948b3ea4c503d8f5c"
    },
    "kernelspec": {
      "display_name": "Python 3.9.2 64-bit",
      "language": "python",
      "name": "python3"
    },
    "language_info": {
      "codemirror_mode": {
        "name": "ipython",
        "version": 3
      },
      "file_extension": ".py",
      "mimetype": "text/x-python",
      "name": "python",
      "nbconvert_exporter": "python",
      "pygments_lexer": "ipython3",
      "version": "3.9.2"
    }
  },
  "nbformat": 4,
  "nbformat_minor": 0
}
